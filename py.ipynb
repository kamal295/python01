{
 "cells": [
  {
   "cell_type": "code",
   "execution_count": 2,
   "id": "cbdb8d49",
   "metadata": {},
   "outputs": [
    {
     "name": "stdout",
     "output_type": "stream",
     "text": [
      "the result is 80\n"
     ]
    }
   ],
   "source": [
    "def muls(a,b):\n",
    "    if a*b<=1000:\n",
    "        print(f'the result is {a*b}')\n",
    "    else:\n",
    "        print(f'the result is {a+b}')\n",
    "muls(50,30)"
   ]
  },
  {
   "cell_type": "code",
   "execution_count": 3,
   "id": "ea60e21d",
   "metadata": {},
   "outputs": [
    {
     "name": "stdout",
     "output_type": "stream",
     "text": [
      "0 0 0\n",
      "1 0 1\n",
      "2 1 3\n",
      "3 2 5\n",
      "4 3 7\n",
      "5 4 9\n",
      "6 5 11\n",
      "7 6 13\n",
      "8 7 15\n",
      "9 8 17\n"
     ]
    }
   ],
   "source": [
    "prev=0\n",
    "for i in range(10):\n",
    "    print(i,prev,i+prev)\n",
    "    prev=i"
   ]
  },
  {
   "cell_type": "code",
   "execution_count": 44,
   "id": "06504204",
   "metadata": {},
   "outputs": [
    {
     "name": "stdout",
     "output_type": "stream",
     "text": [
      "k\n",
      "m\n",
      "l\n",
      "k\n",
      "n\n",
      "a\n"
     ]
    }
   ],
   "source": [
    "#str---even index---::2\n",
    "ins='kamalakannan'\n",
    "for i in ins[::2]:\n",
    "    print(i)"
   ]
  },
  {
   "cell_type": "code",
   "execution_count": 5,
   "id": "c569366b",
   "metadata": {},
   "outputs": [
    {
     "name": "stdout",
     "output_type": "stream",
     "text": [
      "mlasjs\n"
     ]
    }
   ],
   "source": [
    "#remove n char--str--(a[n:])\n",
    "def sal(a,n):\n",
    "    print(a[n:])\n",
    "sal(\"kamlasjs\",2)"
   ]
  },
  {
   "cell_type": "code",
   "execution_count": 7,
   "id": "a84ad707",
   "metadata": {},
   "outputs": [
    {
     "name": "stdout",
     "output_type": "stream",
     "text": [
      "result is true\n"
     ]
    }
   ],
   "source": [
    "#check 1 and last number are same in lst\n",
    "aa=[1,2,3,43,1]\n",
    "def chk(a):\n",
    "    if a[0]==a[-1]:\n",
    "        print('result is true')\n",
    "    else:\n",
    "        print('result is false')\n",
    "        \n",
    "chk(aa)"
   ]
  },
  {
   "cell_type": "code",
   "execution_count": 9,
   "id": "f44729b3",
   "metadata": {},
   "outputs": [
    {
     "name": "stdout",
     "output_type": "stream",
     "text": [
      "10\n",
      "20\n",
      "55\n"
     ]
    }
   ],
   "source": [
    "v= [10, 20, 33, 46, 55]\n",
    "for i in v:\n",
    "    if i%5==0:\n",
    "        print(i)"
   ]
  },
  {
   "cell_type": "code",
   "execution_count": 10,
   "id": "f4069113",
   "metadata": {},
   "outputs": [
    {
     "data": {
      "text/plain": [
       "[10, 20, 55]"
      ]
     },
     "execution_count": 10,
     "metadata": {},
     "output_type": "execute_result"
    }
   ],
   "source": [
    "[i for i in v if i%5==0]"
   ]
  },
  {
   "cell_type": "code",
   "execution_count": 12,
   "id": "7d4e1c8a",
   "metadata": {},
   "outputs": [
    {
     "data": {
      "text/plain": [
       "2"
      ]
     },
     "execution_count": 12,
     "metadata": {},
     "output_type": "execute_result"
    }
   ],
   "source": [
    "#s.count()\n",
    "s=\"Return the count the of a given substring from a string\"\n",
    "s.count(\"the\")"
   ]
  },
  {
   "cell_type": "code",
   "execution_count": 26,
   "id": "9e7541b7",
   "metadata": {},
   "outputs": [
    {
     "name": "stdout",
     "output_type": "stream",
     "text": [
      "1 \n",
      "2 2 \n",
      "3 3 3 \n",
      "4 4 4 4 \n",
      "5 5 5 5 5 \n"
     ]
    }
   ],
   "source": [
    "#pattern\n",
    "for i in range(5):  #rows\n",
    "    for j in range(i+1): #colum incr rep\n",
    "        print(i+1,end=' ') #start 1 and space\n",
    "    print('') #next line"
   ]
  },
  {
   "cell_type": "code",
   "execution_count": 27,
   "id": "612213ef",
   "metadata": {},
   "outputs": [
    {
     "name": "stdout",
     "output_type": "stream",
     "text": [
      "palindrome number\n"
     ]
    }
   ],
   "source": [
    "def pal(a):\n",
    "    if a==int(str(a)[::-1]):\n",
    "        print(\"palindrome number\")\n",
    "    else:\n",
    "        print(\"not palindrome\")\n",
    "pal(151)"
   ]
  },
  {
   "cell_type": "code",
   "execution_count": 28,
   "id": "d7e30ef0",
   "metadata": {},
   "outputs": [
    {
     "name": "stdout",
     "output_type": "stream",
     "text": [
      "palindrome \n"
     ]
    }
   ],
   "source": [
    "def pal(a):\n",
    "    if a==str(a)[::-1]:\n",
    "        print(\"palindrome \")\n",
    "    else:\n",
    "        print(\"not palindrome\")\n",
    "pal(\"mam\")"
   ]
  },
  {
   "cell_type": "code",
   "execution_count": 33,
   "id": "37692127",
   "metadata": {},
   "outputs": [
    {
     "name": "stdout",
     "output_type": "stream",
     "text": [
      "[25, 35, 40, 60, 90]\n"
     ]
    }
   ],
   "source": [
    "#odd 1 list #even 2 list\n",
    "list1 = [10, 20, 25, 30, 35]\n",
    "list2 = [40, 45, 60, 75, 90]\n",
    "\n",
    "op=[]\n",
    "for i in list1:\n",
    "    if i%2!=0:\n",
    "        op.append(i)\n",
    "for j in list2:\n",
    "    if j%2==0:\n",
    "        op.append(j)\n",
    "print(op)"
   ]
  },
  {
   "cell_type": "code",
   "execution_count": 39,
   "id": "95a273a8",
   "metadata": {},
   "outputs": [
    {
     "data": {
      "text/plain": [
       "'8 7 4 1'"
      ]
     },
     "execution_count": 39,
     "metadata": {},
     "output_type": "execute_result"
    }
   ],
   "source": [
    "#reverse order integer\n",
    "a=1478\n",
    "' '.join(str(a)[::-1])"
   ]
  },
  {
   "cell_type": "code",
   "execution_count": 44,
   "id": "b864d3d7",
   "metadata": {},
   "outputs": [
    {
     "name": "stdout",
     "output_type": "stream",
     "text": [
      "1 2 3 4 5 6 7 8 9 10  \n",
      "2 4 6 8 10 12 14 16 18 20  \n",
      "3 6 9 12 15 18 21 24 27 30  \n",
      "4 8 12 16 20 24 28 32 36 40  \n",
      "5 10 15 20 25 30 35 40 45 50  \n",
      "6 12 18 24 30 36 42 48 54 60  \n",
      "7 14 21 28 35 42 49 56 63 70  \n",
      "8 16 24 32 40 48 56 64 72 80  \n",
      "9 18 27 36 45 54 63 72 81 90  \n",
      "10 20 30 40 50 60 70 80 90 100  \n"
     ]
    }
   ],
   "source": [
    "for i in range(1,11):\n",
    "    for j in range(1,11):\n",
    "        print(i*j,end=' ')\n",
    "    print(' ')"
   ]
  },
  {
   "cell_type": "code",
   "execution_count": 49,
   "id": "9b9af440",
   "metadata": {},
   "outputs": [
    {
     "name": "stdout",
     "output_type": "stream",
     "text": [
      "* * * * * \n",
      "* * * * \n",
      "* * * \n",
      "* * \n",
      "* \n"
     ]
    }
   ],
   "source": [
    "#Half-Pyramid Pattern-star\n",
    "for i in range(5): \n",
    "    for j in range(5-i):\n",
    "        print('*',end=' ')\n",
    "    print('')\n"
   ]
  },
  {
   "cell_type": "code",
   "execution_count": 50,
   "id": "b861b847",
   "metadata": {},
   "outputs": [
    {
     "data": {
      "text/plain": [
       "32"
      ]
     },
     "execution_count": 50,
     "metadata": {},
     "output_type": "execute_result"
    }
   ],
   "source": [
    "2**5"
   ]
  },
  {
   "cell_type": "code",
   "execution_count": 52,
   "id": "93ead60f",
   "metadata": {},
   "outputs": [
    {
     "name": "stdout",
     "output_type": "stream",
     "text": [
      "10240000000000\n"
     ]
    }
   ],
   "source": [
    "def expon(base,exp):\n",
    "    print(base**exp)\n",
    "expon(20,10)"
   ]
  },
  {
   "cell_type": "markdown",
   "id": "a8af77cf",
   "metadata": {},
   "source": [
    "# input and output exercise"
   ]
  },
  {
   "cell_type": "code",
   "execution_count": null,
   "id": "753af0ed",
   "metadata": {},
   "outputs": [],
   "source": [
    "Exercise 1: Accept numbers from a user\n",
    "Exercise 2: Display three string “Name”, “Is”, “Jeevan” as “Name Is Jeevan”\n",
    "Exercise 3: Convert Decimal number to octal using print() output fo\n",
    "Display float number with 2 decimal places using print()\n",
    "Exercise 5: Accept a list of 5 float numbers as an input from the user\n",
    "Exercise 6: Accept any three string from one input() call   "
   ]
  },
  {
   "cell_type": "code",
   "execution_count": null,
   "id": "37eb9813",
   "metadata": {},
   "outputs": [],
   "source": [
    "a=int(input(\"enter number\"))\n",
    "b=int(input(\"enter number\"))\n",
    "print(\" the output\",a*b)\n",
    "\n"
   ]
  },
  {
   "cell_type": "code",
   "execution_count": null,
   "id": "7a436894",
   "metadata": {},
   "outputs": [],
   "source": [
    "data=(“Name”, “Is”, “Jeevan”)\n",
    "'**'.join(data)"
   ]
  },
  {
   "cell_type": "code",
   "execution_count": 40,
   "id": "9dccdfba",
   "metadata": {},
   "outputs": [
    {
     "data": {
      "text/plain": [
       "'0o11'"
      ]
     },
     "execution_count": 40,
     "metadata": {},
     "output_type": "execute_result"
    }
   ],
   "source": [
    "num=9\n",
    "oct(num)"
   ]
  },
  {
   "cell_type": "code",
   "execution_count": 41,
   "id": "491f405e",
   "metadata": {},
   "outputs": [
    {
     "data": {
      "text/plain": [
       "152.24"
      ]
     },
     "execution_count": 41,
     "metadata": {},
     "output_type": "execute_result"
    }
   ],
   "source": [
    "a=152.23699\n",
    "round(a,2)"
   ]
  },
  {
   "cell_type": "code",
   "execution_count": 42,
   "id": "0d678dab",
   "metadata": {},
   "outputs": [
    {
     "name": "stdout",
     "output_type": "stream",
     "text": [
      "enter number56\n",
      "enter number654\n",
      "enter number477\n",
      "enter number10\n",
      "enter number2230\n"
     ]
    }
   ],
   "source": [
    "lis=[]\n",
    "for i in range(5):\n",
    "    lis.append(float(input(\"enter number\")))"
   ]
  },
  {
   "cell_type": "code",
   "execution_count": null,
   "id": "708665ab",
   "metadata": {},
   "outputs": [],
   "source": [
    "a,b,c=input(\"enter name\").split(',')\n",
    "print(a,b,c)"
   ]
  },
  {
   "cell_type": "code",
   "execution_count": null,
   "id": "6b338f6e",
   "metadata": {},
   "outputs": [],
   "source": [
    "a=1\n",
    "while a<11:\n",
    "    print(a)\n",
    "    a+=1"
   ]
  },
  {
   "cell_type": "code",
   "execution_count": null,
   "id": "1ea9aa5f",
   "metadata": {},
   "outputs": [],
   "source": [
    "for i in range(5):\n",
    "    for j in range(i+1):\n",
    "        print(j+1,end=' ')\n",
    "    print(' ')"
   ]
  },
  {
   "cell_type": "code",
   "execution_count": null,
   "id": "7e13b709",
   "metadata": {},
   "outputs": [],
   "source": [
    "def sum(a):\n",
    "    output=0\n",
    "    for i in range(1,a+1):\n",
    "        output+=i\n",
    "    print(output)\n",
    "summing(10)        "
   ]
  },
  {
   "cell_type": "code",
   "execution_count": null,
   "id": "06f1fb1a",
   "metadata": {},
   "outputs": [],
   "source": [
    "d=int(input(\"eneter number\"))\n",
    "for i in range(1,11):\n",
    "    print(i*d)"
   ]
  },
  {
   "cell_type": "code",
   "execution_count": null,
   "id": "03fdc251",
   "metadata": {},
   "outputs": [],
   "source": [
    "numbers = [12, 75, 150, 180, 145, 525, 50]\n",
    "for i in numbers:\n",
    "    if i>=500:\n",
    "        break\n",
    "    elif i>150:\n",
    "        continue\n",
    "    elif i%5==0:\n",
    "        print(i)"
   ]
  },
  {
   "cell_type": "code",
   "execution_count": 33,
   "id": "88047f6d",
   "metadata": {},
   "outputs": [
    {
     "name": "stdout",
     "output_type": "stream",
     "text": [
      "5\n"
     ]
    }
   ],
   "source": [
    "a=56987\n",
    "count=0\n",
    "while a>0:\n",
    "    count+=1\n",
    "    a//=10  #main\n",
    "    \n",
    "print(count)"
   ]
  },
  {
   "cell_type": "code",
   "execution_count": 28,
   "id": "ab2edb85",
   "metadata": {},
   "outputs": [
    {
     "name": "stdout",
     "output_type": "stream",
     "text": [
      "0\n",
      "1\n",
      "2\n",
      "3\n",
      "4\n"
     ]
    }
   ],
   "source": [
    "for i in range(5):\n",
    "    print(i)"
   ]
  },
  {
   "cell_type": "code",
   "execution_count": 31,
   "id": "b6ea1bf6",
   "metadata": {},
   "outputs": [
    {
     "name": "stdout",
     "output_type": "stream",
     "text": [
      "0 1 2 3 4 5 \n",
      "0 1 2 3 4 \n",
      "0 1 2 3 \n",
      "0 1 2 \n",
      "0 1 \n"
     ]
    }
   ],
   "source": [
    "for i in range(5):\n",
    "    for j in range(6-i):\n",
    "        print(j,end=' ')\n",
    "    print()"
   ]
  },
  {
   "cell_type": "code",
   "execution_count": 32,
   "id": "492ea4a3",
   "metadata": {},
   "outputs": [
    {
     "name": "stdout",
     "output_type": "stream",
     "text": [
      "5 4 3 2 1 \n",
      "4 3 2 1 \n",
      "3 2 1 \n",
      "2 1 \n",
      "1 \n"
     ]
    }
   ],
   "source": [
    "for i in range(5):\n",
    "    for j in range(5-i,0,-1):\n",
    "        print(j,end=' ')\n",
    "    print()"
   ]
  },
  {
   "cell_type": "code",
   "execution_count": 34,
   "id": "6fab1826",
   "metadata": {},
   "outputs": [
    {
     "data": {
      "text/plain": [
       "[10, 20, 30, 40, 50]"
      ]
     },
     "execution_count": 34,
     "metadata": {},
     "output_type": "execute_result"
    }
   ],
   "source": [
    "lst1=[10, 20, 30, 40, 50]\n",
    "lst1.reverse()\n",
    "lst1\n",
    "[i for i in lst1[::-1]]"
   ]
  },
  {
   "cell_type": "code",
   "execution_count": 35,
   "id": "a52b77e1",
   "metadata": {},
   "outputs": [
    {
     "name": "stdout",
     "output_type": "stream",
     "text": [
      "-10\n",
      "-9\n",
      "-8\n",
      "-7\n",
      "-6\n",
      "-5\n",
      "-4\n",
      "-3\n",
      "-2\n",
      "-1\n"
     ]
    }
   ],
   "source": [
    "for i in range(-10,0):\n",
    "    print(i)"
   ]
  },
  {
   "cell_type": "code",
   "execution_count": 36,
   "id": "87b6e767",
   "metadata": {},
   "outputs": [
    {
     "name": "stdout",
     "output_type": "stream",
     "text": [
      "0\n",
      "1\n",
      "2\n",
      "3\n",
      "4\n",
      "Done!\n"
     ]
    }
   ],
   "source": [
    "for i in range(5):\n",
    "    print(i)\n",
    "else:\n",
    "    print('Done!')"
   ]
  },
  {
   "cell_type": "code",
   "execution_count": 39,
   "id": "1ef0019f",
   "metadata": {},
   "outputs": [],
   "source": [
    "#prime number \n",
    "a=20\n",
    "b=45\n",
    "for i in range(a,b+1):\n",
    "    for j in (2,i):\n",
    "        if i%j==0:\n",
    "            break\n",
    "    else:\n",
    "        print(i)"
   ]
  },
  {
   "cell_type": "code",
   "execution_count": null,
   "id": "127b8859",
   "metadata": {},
   "outputs": [],
   "source": [
    "#odd index[1::2]"
   ]
  },
  {
   "cell_type": "code",
   "execution_count": 6,
   "id": "d3f41c99",
   "metadata": {},
   "outputs": [
    {
     "name": "stdout",
     "output_type": "stream",
     "text": [
      "Counter({1: 2, 2: 2, 3: 1, 5: 1, 67: 1})\n"
     ]
    }
   ],
   "source": [
    "from collections import Counter\n",
    "l1=[1,2,3,1,2,5,67]\n",
    "a=Counter(l1)\n",
    "print(a)"
   ]
  },
  {
   "cell_type": "code",
   "execution_count": 10,
   "id": "e76d01ac",
   "metadata": {},
   "outputs": [
    {
     "name": "stdout",
     "output_type": "stream",
     "text": [
      "duplicate nos: [1, 2]\n"
     ]
    }
   ],
   "source": [
    "print(\"duplicate nos:\",list([i for i in a if a[i]>1]) )"
   ]
  },
  {
   "cell_type": "code",
   "execution_count": 45,
   "id": "91042128",
   "metadata": {},
   "outputs": [
    {
     "name": "stdout",
     "output_type": "stream",
     "text": [
      "Collecting pandocNote: you may need to restart the kernel to use updated packages.\n",
      "  Downloading pandoc-2.3.tar.gz (33 kB)\n",
      "Collecting plumbum\n",
      "  Downloading plumbum-1.8.2-py3-none-any.whl (127 kB)\n",
      "Requirement already satisfied: ply in c:\\users\\kamal\\anaconda3\\lib\\site-packages (from pandoc) (3.11)\n",
      "Requirement already satisfied: pywin32 in c:\\users\\kamal\\anaconda3\\lib\\site-packages (from plumbum->pandoc) (302)\n",
      "Building wheels for collected packages: pandoc\n",
      "  Building wheel for pandoc (setup.py): started\n",
      "  Building wheel for pandoc (setup.py): finished with status 'done'\n",
      "  Created wheel for pandoc: filename=pandoc-2.3-py3-none-any.whl size=33282 sha256=c2870a986b6ee892e50acc73ac2851a34fc6a3c94c3d8863246ee3e2f320b1d9\n",
      "  Stored in directory: c:\\users\\kamal\\appdata\\local\\pip\\cache\\wheels\\69\\e6\\a1\\1daa96d919c9e09a71473649b717b8da286f3f8d7719d1cfc5\n",
      "Successfully built pandoc\n",
      "Installing collected packages: plumbum, pandoc\n",
      "Successfully installed pandoc-2.3 plumbum-1.8.2\n",
      "\n"
     ]
    },
    {
     "name": "stderr",
     "output_type": "stream",
     "text": [
      "WARNING: Ignoring invalid distribution -atplotlib (c:\\users\\kamal\\anaconda3\\lib\\site-packages)\n",
      "WARNING: Ignoring invalid distribution -atplotlib (c:\\users\\kamal\\anaconda3\\lib\\site-packages)\n",
      "WARNING: Ignoring invalid distribution -atplotlib (c:\\users\\kamal\\anaconda3\\lib\\site-packages)\n",
      "WARNING: Ignoring invalid distribution -atplotlib (c:\\users\\kamal\\anaconda3\\lib\\site-packages)\n",
      "WARNING: Ignoring invalid distribution -atplotlib (c:\\users\\kamal\\anaconda3\\lib\\site-packages)\n",
      "WARNING: Ignoring invalid distribution -atplotlib (c:\\users\\kamal\\anaconda3\\lib\\site-packages)\n",
      "WARNING: Ignoring invalid distribution -atplotlib (c:\\users\\kamal\\anaconda3\\lib\\site-packages)\n",
      "WARNING: Ignoring invalid distribution -atplotlib (c:\\users\\kamal\\anaconda3\\lib\\site-packages)\n"
     ]
    }
   ],
   "source": [
    "pip install pandoc"
   ]
  },
  {
   "cell_type": "code",
   "execution_count": null,
   "id": "bacdf56c",
   "metadata": {},
   "outputs": [],
   "source": []
  }
 ],
 "metadata": {
  "kernelspec": {
   "display_name": "Python 3 (ipykernel)",
   "language": "python",
   "name": "python3"
  },
  "language_info": {
   "codemirror_mode": {
    "name": "ipython",
    "version": 3
   },
   "file_extension": ".py",
   "mimetype": "text/x-python",
   "name": "python",
   "nbconvert_exporter": "python",
   "pygments_lexer": "ipython3",
   "version": "3.9.12"
  }
 },
 "nbformat": 4,
 "nbformat_minor": 5
}
