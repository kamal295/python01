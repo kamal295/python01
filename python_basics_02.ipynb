{
 "cells": [
  {
   "cell_type": "code",
   "execution_count": 1,
   "id": "3054deff",
   "metadata": {},
   "outputs": [
    {
     "name": "stdout",
     "output_type": "stream",
     "text": [
      "['KAM', 'LOL', 'PP']\n"
     ]
    }
   ],
   "source": [
    "fa=[\"kam\",\"lol\",\"pp\"]\n",
    "d=[]\n",
    "for i in fa:\n",
    "    d.append(i.upper())\n",
    "print(d)"
   ]
  },
  {
   "cell_type": "code",
   "execution_count": 2,
   "id": "b7629f96",
   "metadata": {},
   "outputs": [
    {
     "data": {
      "text/plain": [
       "['KAM', 'LOL', 'PP']"
      ]
     },
     "execution_count": 2,
     "metadata": {},
     "output_type": "execute_result"
    }
   ],
   "source": [
    "d=[i.upper() for i in fa]\n",
    "d"
   ]
  },
  {
   "cell_type": "code",
   "execution_count": 26,
   "id": "4283c782",
   "metadata": {},
   "outputs": [
    {
     "data": {
      "text/plain": [
       "['eop']"
      ]
     },
     "execution_count": 26,
     "metadata": {},
     "output_type": "execute_result"
    }
   ],
   "source": [
    "a=[\"oaoaoaoaoa\",\"eop\"]                 \n",
    "x=[i for i in a if 'e' in i.lower()]\n",
    "x"
   ]
  },
  {
   "cell_type": "code",
   "execution_count": 11,
   "id": "1bd8315a",
   "metadata": {},
   "outputs": [
    {
     "data": {
      "text/plain": [
       "[(2, 'even'),\n",
       " (3, 'odd'),\n",
       " (4, 'even'),\n",
       " (5, 'odd'),\n",
       " (6, 'even'),\n",
       " (7, 'odd'),\n",
       " (8, 'even'),\n",
       " (9, 'odd'),\n",
       " (10, 'even'),\n",
       " (11, 'odd'),\n",
       " (12, 'even'),\n",
       " (13, 'odd'),\n",
       " (14, 'even')]"
      ]
     },
     "execution_count": 11,
     "metadata": {},
     "output_type": "execute_result"
    }
   ],
   "source": [
    "q=[(i,\"even\")if i%2==0 else (i,\"odd\") for i in range(2,15)]\n",
    "q"
   ]
  },
  {
   "cell_type": "code",
   "execution_count": null,
   "id": "1e930f26",
   "metadata": {},
   "outputs": [],
   "source": [
    "a=int(input(\"enter number\"))\n",
    "['no tax' if a<=10000 else (a-10000)*.1 if a>10000 and a<=20000 else (10000*0.1+(a-20000)*.2)]"
   ]
  },
  {
   "cell_type": "code",
   "execution_count": 5,
   "id": "32bb479f",
   "metadata": {},
   "outputs": [
    {
     "name": "stdout",
     "output_type": "stream",
     "text": [
      "Enter the income50000\n"
     ]
    },
    {
     "data": {
      "text/plain": [
       "[7000.0]"
      ]
     },
     "execution_count": 5,
     "metadata": {},
     "output_type": "execute_result"
    }
   ],
   "source": [
    "#lis = [expression if condition == True else expression if condition == True else expression for item in iterable]\n",
    "a=int(input('Enter the income'))\n",
    "\n",
    "[ 'No Tax' if a<=10000 else (a-10000)*.1 if a>10000 and a<=20000 else ((10000*0.1)+(a-20000)*.2)]"
   ]
  },
  {
   "cell_type": "code",
   "execution_count": null,
   "id": "ff959a0c",
   "metadata": {},
   "outputs": [],
   "source": [
    "if a<10000:\n",
    "    print()\n",
    "elif a>10000 and a<=20000:\n",
    "    print()\n",
    "else:\n",
    "    print(c=)"
   ]
  },
  {
   "cell_type": "code",
   "execution_count": null,
   "id": "81bf566d",
   "metadata": {},
   "outputs": [],
   "source": [
    "w=int(input(\"enter number\"))\n",
    "['no tax'if w<=10000 else (w-10000)*.1 if w>10000 and w<=20000 else ((10000*.1)+(a-20000)*.2)]"
   ]
  },
  {
   "cell_type": "markdown",
   "id": "33cd41cc",
   "metadata": {},
   "source": []
  },
  {
   "cell_type": "code",
   "execution_count": null,
   "id": "bef40730",
   "metadata": {},
   "outputs": [],
   "source": []
  },
  {
   "cell_type": "markdown",
   "id": "6bcefc00",
   "metadata": {},
   "source": [
    "# LAMBDA"
   ]
  },
  {
   "cell_type": "code",
   "execution_count": 13,
   "id": "154f5db3",
   "metadata": {},
   "outputs": [
    {
     "data": {
      "text/plain": [
       "15"
      ]
     },
     "execution_count": 13,
     "metadata": {},
     "output_type": "execute_result"
    }
   ],
   "source": [
    "s=lambda x,t,z:x+t+z\n",
    "s(5,5,5)"
   ]
  },
  {
   "cell_type": "code",
   "execution_count": null,
   "id": "2f0894fa",
   "metadata": {},
   "outputs": [],
   "source": [
    "a=lambda x:x*2\n",
    "a(9)"
   ]
  },
  {
   "cell_type": "code",
   "execution_count": 4,
   "id": "6156d75b",
   "metadata": {},
   "outputs": [
    {
     "data": {
      "text/plain": [
       "50"
      ]
     },
     "execution_count": 4,
     "metadata": {},
     "output_type": "execute_result"
    }
   ],
   "source": [
    "def kams(n):\n",
    "    return lambda x:x*n\n",
    "sam=kams(10)\n",
    "sam(5)"
   ]
  },
  {
   "cell_type": "code",
   "execution_count": 14,
   "id": "9a419f9f",
   "metadata": {},
   "outputs": [
    {
     "data": {
      "text/plain": [
       "101"
      ]
     },
     "execution_count": 14,
     "metadata": {},
     "output_type": "execute_result"
    }
   ],
   "source": [
    "def kamal(m):\n",
    "    return lambda x,y:x*m+y\n",
    "aq=kamal(10)\n",
    "ds=kamal(100)\n",
    "aq(5,50)\n",
    "ds(1,1)"
   ]
  },
  {
   "cell_type": "code",
   "execution_count": 15,
   "id": "19cd80ce",
   "metadata": {},
   "outputs": [
    {
     "data": {
      "text/plain": [
       "[1, 4, 9, 16]"
      ]
     },
     "execution_count": 15,
     "metadata": {},
     "output_type": "execute_result"
    }
   ],
   "source": [
    "#Map function in lambda\n",
    "a=[1,2,3,4]\n",
    "c=list(map(lambda x:x**2,a))\n",
    "c"
   ]
  },
  {
   "cell_type": "code",
   "execution_count": 18,
   "id": "12cdf7ba",
   "metadata": {},
   "outputs": [
    {
     "data": {
      "text/plain": [
       "['JEEVAN', 'RAHUL', 'SAM', 'SHRAVANI']"
      ]
     },
     "execution_count": 18,
     "metadata": {},
     "output_type": "execute_result"
    }
   ],
   "source": [
    "i= ['Jeevan','Rahul','Sam','Shravani']\n",
    "c=list(map(lambda x:x.upper(),i))\n",
    "c\n"
   ]
  },
  {
   "cell_type": "code",
   "execution_count": 19,
   "id": "a00b43db",
   "metadata": {},
   "outputs": [
    {
     "data": {
      "text/plain": [
       "['JEEVAN', 'RAHUL', 'SAM', 'SHRAVANI']"
      ]
     },
     "execution_count": 19,
     "metadata": {},
     "output_type": "execute_result"
    }
   ],
   "source": [
    "c"
   ]
  },
  {
   "cell_type": "code",
   "execution_count": 20,
   "id": "1166ae7d",
   "metadata": {},
   "outputs": [],
   "source": [
    "#sorting lambda function\n",
    "w=[('raju',90),('varun',89),('akash',70),('lokesh',92),('amrutha',45),('chandana',80),('mita',50)]"
   ]
  },
  {
   "cell_type": "code",
   "execution_count": 23,
   "id": "8003ddf6",
   "metadata": {},
   "outputs": [
    {
     "data": {
      "text/plain": [
       "[('akash', 70),\n",
       " ('amrutha', 45),\n",
       " ('chandana', 80),\n",
       " ('lokesh', 92),\n",
       " ('mita', 50),\n",
       " ('raju', 90),\n",
       " ('varun', 89)]"
      ]
     },
     "execution_count": 23,
     "metadata": {},
     "output_type": "execute_result"
    }
   ],
   "source": [
    "sorted(w,key=lambda x:x[1])"
   ]
  },
  {
   "cell_type": "code",
   "execution_count": 24,
   "id": "bfa7b508",
   "metadata": {},
   "outputs": [
    {
     "data": {
      "text/plain": [
       "[('akash', 70),\n",
       " ('amrutha', 45),\n",
       " ('chandana', 80),\n",
       " ('lokesh', 92),\n",
       " ('mita', 50),\n",
       " ('raju', 90),\n",
       " ('varun', 89)]"
      ]
     },
     "execution_count": 24,
     "metadata": {},
     "output_type": "execute_result"
    }
   ],
   "source": [
    "sorted(w,key=lambda x:x[0]) #sorted(not affect orginal data)"
   ]
  },
  {
   "cell_type": "code",
   "execution_count": 25,
   "id": "e746cbfe",
   "metadata": {},
   "outputs": [],
   "source": [
    "w.sort() #Affect the orginal data"
   ]
  },
  {
   "cell_type": "code",
   "execution_count": 26,
   "id": "d7b53fb7",
   "metadata": {},
   "outputs": [
    {
     "data": {
      "text/plain": [
       "[('akash', 70),\n",
       " ('amrutha', 45),\n",
       " ('chandana', 80),\n",
       " ('lokesh', 92),\n",
       " ('mita', 50),\n",
       " ('raju', 90),\n",
       " ('varun', 89)]"
      ]
     },
     "execution_count": 26,
     "metadata": {},
     "output_type": "execute_result"
    }
   ],
   "source": [
    "w"
   ]
  },
  {
   "cell_type": "code",
   "execution_count": 30,
   "id": "ddf5eba1",
   "metadata": {},
   "outputs": [
    {
     "name": "stdout",
     "output_type": "stream",
     "text": [
      "even [56, 24, 66, 4, 54, 34]\n",
      "odd [1, 23, 7, 3, 67]\n",
      "greater than 6 [23, 56, 7, 24, 66, 67, 54, 34]\n"
     ]
    }
   ],
   "source": [
    "#filter in lambda function\n",
    "#print odd and even numbers using lambdafunction\n",
    "s=[1,23,56,7,3,24,66,4,67,54,34]\n",
    "eve=list(filter(lambda x:x%2==0,s))\n",
    "print(\"even\",eve)\n",
    "odd=list(filter(lambda x:x%2!=0,s))\n",
    "print(\"odd\",odd)\n",
    "d=list(filter(lambda x:x>6,s))\n",
    "print(\"greater than 6\",d)"
   ]
  },
  {
   "cell_type": "code",
   "execution_count": 35,
   "id": "09de3987",
   "metadata": {},
   "outputs": [
    {
     "name": "stdout",
     "output_type": "stream",
     "text": [
      "sum= 86\n",
      "greater: 19\n",
      "min 1\n"
     ]
    }
   ],
   "source": [
    "#reduce function\n",
    "from functools import reduce\n",
    "n= [1,2,3,4,5,6,7,8,9,12,19,10]\n",
    "summ=reduce(lambda x,y:x+y,n)\n",
    "print(\"sum=\",summ)\n",
    "g=reduce(lambda x,y:x if x>y else y,n)\n",
    "print(\"greater:\",g)\n",
    "l=reduce(lambda x,y:x if x<y else y,n)\n",
    "print(\"min\",l)\n",
    "\n"
   ]
  },
  {
   "cell_type": "code",
   "execution_count": 45,
   "id": "b7335fe0",
   "metadata": {},
   "outputs": [
    {
     "name": "stdout",
     "output_type": "stream",
     "text": [
      "name akmal\n",
      "age 20\n",
      "name joel\n",
      "age 33\n"
     ]
    }
   ],
   "source": [
    "#function\n",
    "def ma(name,age=20): #default argument\n",
    "    print(\"name\",name)\n",
    "    print(\"age\",age)\n",
    "ma(name=\"akmal\")\n",
    "ma(name=\"joel\",age=33)\n"
   ]
  },
  {
   "cell_type": "code",
   "execution_count": 58,
   "id": "4e6755ca",
   "metadata": {},
   "outputs": [
    {
     "name": "stdout",
     "output_type": "stream",
     "text": [
      "15\n"
     ]
    }
   ],
   "source": [
    "def ak(*a):\n",
    "    b=0\n",
    "    for i in a:\n",
    "        b+=i\n",
    "        #print(b) #add sum to number\n",
    "    print(b) #sum \n",
    "        \n",
    "ak(1,2,3,4,5)\n",
    "        "
   ]
  },
  {
   "cell_type": "code",
   "execution_count": 63,
   "id": "2f50dc51",
   "metadata": {},
   "outputs": [
    {
     "name": "stdout",
     "output_type": "stream",
     "text": [
      "{'Name': 'Jeevan', 'Age': 25, 'salary': 5000, 'location': 'dgl'}\n"
     ]
    }
   ],
   "source": [
    "#** output in form of dictionary\n",
    "def sd(**b):\n",
    "    print(b)\n",
    "sd(Name='Jeevan',Age=25,salary=5000,location=\"dgl\")"
   ]
  },
  {
   "cell_type": "code",
   "execution_count": 66,
   "id": "7bc5af11",
   "metadata": {},
   "outputs": [
    {
     "name": "stdout",
     "output_type": "stream",
     "text": [
      "Name = Jeevan\n",
      "Age = 25\n",
      "salary = 5000\n"
     ]
    }
   ],
   "source": [
    "def g(**v):\n",
    "    for i,j in v.items():\n",
    "        print(i,\"=\",j)\n",
    "g(Name='Jeevan',Age=25,salary=5000)"
   ]
  },
  {
   "cell_type": "code",
   "execution_count": 67,
   "id": "98d5b648",
   "metadata": {},
   "outputs": [
    {
     "data": {
      "text/plain": [
       "13"
      ]
     },
     "execution_count": 67,
     "metadata": {},
     "output_type": "execute_result"
    }
   ],
   "source": [
    "def sd(a,b):\n",
    "    c=a+b\n",
    "    return c\n",
    "sd(6,7)"
   ]
  },
  {
   "cell_type": "markdown",
   "id": "635990af",
   "metadata": {},
   "source": [
    "# listcompheresion"
   ]
  },
  {
   "cell_type": "code",
   "execution_count": null,
   "id": "03de5765",
   "metadata": {},
   "outputs": [],
   "source": [
    "Write a program to extract even numbers from a list of 1 to 10\n",
    "Write a program to find the length of each word in a string\n",
    "Write a program to extract numbers that are divisible by 3 and 5 from 15 to 25\n",
    "Write a program to extract string that have more than 5 characters, lis = ['apple', 'banana', 'cat', 'date', 'elephant']\n",
    "Write a program to find the squares of the numbers in a list if the number is even number else print the number, lis=[23,55,66,90,34,33,63,88]\n",
    "Write a program to add corresponding elements from two list, lis1 = [1,2,3,4], lis2 = [10,20,30,40]\n",
    "Write a program to extract string that start with a vowel"
   ]
  },
  {
   "cell_type": "code",
   "execution_count": 1,
   "id": "71511514",
   "metadata": {},
   "outputs": [
    {
     "data": {
      "text/plain": [
       "[2, 4, 6, 8, 10]"
      ]
     },
     "execution_count": 1,
     "metadata": {},
     "output_type": "execute_result"
    }
   ],
   "source": [
    "a=[1,2,3,4,5,6,7,8,9,10]\n",
    "s=[i for i in a if i%2==0]\n",
    "s"
   ]
  },
  {
   "cell_type": "code",
   "execution_count": 6,
   "id": "ad1fc437",
   "metadata": {},
   "outputs": [
    {
     "data": {
      "text/plain": [
       "[5, 6]"
      ]
     },
     "execution_count": 6,
     "metadata": {},
     "output_type": "execute_result"
    }
   ],
   "source": [
    "w=[\"kamal\",\"rajini\"]\n",
    "d=[len(i) for i in w ]\n",
    "d"
   ]
  },
  {
   "cell_type": "code",
   "execution_count": 10,
   "id": "31a500eb",
   "metadata": {},
   "outputs": [
    {
     "data": {
      "text/plain": [
       "[(1, 'error'),\n",
       " (2, 'even'),\n",
       " (3, 'error'),\n",
       " (4, 'even'),\n",
       " (5, 'error'),\n",
       " (6, 'even'),\n",
       " (7, 'error'),\n",
       " (8, 'even'),\n",
       " (9, 'error')]"
      ]
     },
     "execution_count": 10,
     "metadata": {},
     "output_type": "execute_result"
    }
   ],
   "source": [
    "q=[(i,\"even\") if i%2==0 else (i,\"error\")for i in range(1,10)]\n",
    "q"
   ]
  },
  {
   "cell_type": "code",
   "execution_count": 12,
   "id": "1961c60c",
   "metadata": {},
   "outputs": [
    {
     "data": {
      "text/plain": [
       "[15]"
      ]
     },
     "execution_count": 12,
     "metadata": {},
     "output_type": "execute_result"
    }
   ],
   "source": [
    "d=[i for i in range(15,25) if i%3==0 and i%5==0]\n",
    "d"
   ]
  },
  {
   "cell_type": "code",
   "execution_count": 14,
   "id": "68193e29",
   "metadata": {},
   "outputs": [
    {
     "data": {
      "text/plain": [
       "['banana', 'elephant']"
      ]
     },
     "execution_count": 14,
     "metadata": {},
     "output_type": "execute_result"
    }
   ],
   "source": [
    "#Write a program to extract string that have more than 5 characters, lis = ['apple', 'banana', 'cat', 'date', 'elephant']\n",
    "lis = ['apple', 'banana', 'cat', 'date', 'elephant']\n",
    "f=[i for i in lis if len(i)>5]\n",
    "f"
   ]
  },
  {
   "cell_type": "code",
   "execution_count": 17,
   "id": "6e564fc7",
   "metadata": {},
   "outputs": [
    {
     "data": {
      "text/plain": [
       "[('print no:', 23),\n",
       " ('print no:', 55),\n",
       " ('square number:', 4356),\n",
       " ('square number:', 8100),\n",
       " ('square number:', 1156),\n",
       " ('print no:', 33),\n",
       " ('print no:', 63),\n",
       " ('square number:', 7744)]"
      ]
     },
     "execution_count": 17,
     "metadata": {},
     "output_type": "execute_result"
    }
   ],
   "source": [
    "li=[23,55,66,90,34,33,63,88]\n",
    "e=[(\"square number:\",i**2)if i%2==0 else (\"print no:\",i) for i in li]\n",
    "e"
   ]
  },
  {
   "cell_type": "code",
   "execution_count": 18,
   "id": "40026760",
   "metadata": {},
   "outputs": [
    {
     "data": {
      "text/plain": [
       "4356"
      ]
     },
     "execution_count": 18,
     "metadata": {},
     "output_type": "execute_result"
    }
   ],
   "source": [
    "66*66"
   ]
  },
  {
   "cell_type": "code",
   "execution_count": 31,
   "id": "760009b4",
   "metadata": {},
   "outputs": [
    {
     "name": "stdout",
     "output_type": "stream",
     "text": [
      "enter num5\n",
      "biology\n"
     ]
    }
   ],
   "source": [
    "a=int(input(\"enter num\"))\n",
    "if (a==1):\n",
    "    print('physics')\n",
    "elif(a==2):\n",
    "    print('chemistry')\n",
    "elif(a==3):\n",
    "    print('maths')\n",
    "elif(a==4):\n",
    "    print(\"english\")\n",
    "elif(a==5):\n",
    "    print('biology')\n",
    "else:\n",
    "    print('error')"
   ]
  },
  {
   "cell_type": "code",
   "execution_count": 34,
   "id": "92398c78",
   "metadata": {},
   "outputs": [
    {
     "name": "stdout",
     "output_type": "stream",
     "text": [
      "odd number\n"
     ]
    }
   ],
   "source": [
    "#check whether the given even number\n",
    "a=5\n",
    "if a%2==0:\n",
    "    print(\"even number\")\n",
    "else:\n",
    "    print(\"odd number\")"
   ]
  },
  {
   "cell_type": "code",
   "execution_count": 40,
   "id": "48b3d622",
   "metadata": {},
   "outputs": [
    {
     "name": "stdout",
     "output_type": "stream",
     "text": [
      "1\n",
      "6\n",
      "11\n",
      "16\n",
      "21\n",
      "26\n",
      "31\n"
     ]
    }
   ],
   "source": [
    "for i in range(1,36,5):\n",
    "    print (i)\n"
   ]
  },
  {
   "cell_type": "code",
   "execution_count": 43,
   "id": "6ecd3f87",
   "metadata": {},
   "outputs": [
    {
     "name": "stdout",
     "output_type": "stream",
     "text": [
      "50\n",
      "75\n",
      "100\n"
     ]
    }
   ],
   "source": [
    "for i in range(50,101,25):\n",
    "    print(i)"
   ]
  },
  {
   "cell_type": "code",
   "execution_count": 44,
   "id": "73d67d33",
   "metadata": {},
   "outputs": [
    {
     "name": "stdout",
     "output_type": "stream",
     "text": [
      "3\n",
      "error\n",
      "error\n",
      "6\n",
      "error\n",
      "error\n",
      "9\n"
     ]
    }
   ],
   "source": [
    "for i in range(3,10):\n",
    "    if i%3==0:\n",
    "        print(i)\n",
    "    else:\n",
    "        print(\"error\")"
   ]
  },
  {
   "cell_type": "code",
   "execution_count": 45,
   "id": "1f4f3411",
   "metadata": {},
   "outputs": [
    {
     "name": "stdout",
     "output_type": "stream",
     "text": [
      "Name , Subjects\n",
      "Jeevan @@@@@@@@@ Mysql\n",
      "Jeevan @@@@@@@@@ Python\n",
      "Jeevan @@@@@@@@@ Stats\n",
      "Jagruti @@@@@@@@@ Mysql\n",
      "Jagruti @@@@@@@@@ Python\n",
      "Jagruti @@@@@@@@@ Stats\n",
      "Neha @@@@@@@@@ Mysql\n",
      "Neha @@@@@@@@@ Python\n",
      "Neha @@@@@@@@@ Stats\n",
      "Chandana @@@@@@@@@ Mysql\n",
      "Chandana @@@@@@@@@ Python\n",
      "Chandana @@@@@@@@@ Stats\n"
     ]
    }
   ],
   "source": [
    "name = ['Jeevan','Jagruti','Neha','Chandana']\n",
    "subjects= ['Mysql','Python','Stats']\n",
    "print('Name , Subjects')\n",
    "for i in name:\n",
    "    for j in subjects:\n",
    "        print(i,\"@@@@@@@@@\",j)"
   ]
  },
  {
   "cell_type": "code",
   "execution_count": null,
   "id": "658e4412",
   "metadata": {},
   "outputs": [],
   "source": [
    "#while(condition):\n",
    "#    print(i)\n",
    "a=7\n",
    "while a<6:\n",
    "    print(a)"
   ]
  },
  {
   "cell_type": "code",
   "execution_count": 1,
   "id": "2be8293c",
   "metadata": {},
   "outputs": [
    {
     "data": {
      "text/plain": [
       "18"
      ]
     },
     "execution_count": 1,
     "metadata": {},
     "output_type": "execute_result"
    }
   ],
   "source": [
    "s=lambda x:x+10\n",
    "s(8)"
   ]
  },
  {
   "cell_type": "code",
   "execution_count": 2,
   "id": "d172335e",
   "metadata": {},
   "outputs": [
    {
     "data": {
      "text/plain": [
       "6"
      ]
     },
     "execution_count": 2,
     "metadata": {},
     "output_type": "execute_result"
    }
   ],
   "source": [
    "s=lambda x,y,z:x+y+z\n",
    "s(1,2,3)"
   ]
  },
  {
   "cell_type": "code",
   "execution_count": 5,
   "id": "70299eee",
   "metadata": {},
   "outputs": [
    {
     "data": {
      "text/plain": [
       "10001"
      ]
     },
     "execution_count": 5,
     "metadata": {},
     "output_type": "execute_result"
    }
   ],
   "source": [
    "def kamal(m,n):\n",
    "    return lambda x,y:x+y*m*n\n",
    "ds=kamal(100,100)\n",
    "ds(1,1)"
   ]
  },
  {
   "cell_type": "code",
   "execution_count": 9,
   "id": "8776eb89",
   "metadata": {},
   "outputs": [
    {
     "data": {
      "text/plain": [
       "[9765625, 1024, 59049, 1048576]"
      ]
     },
     "execution_count": 9,
     "metadata": {},
     "output_type": "execute_result"
    }
   ],
   "source": [
    "a=[5,2,3,4]\n",
    "s=list(map(lambda x:x**10,a))\n",
    "s"
   ]
  },
  {
   "cell_type": "code",
   "execution_count": 10,
   "id": "16be30d6",
   "metadata": {},
   "outputs": [
    {
     "data": {
      "text/plain": [
       "[2, 3, 4, 5]"
      ]
     },
     "execution_count": 10,
     "metadata": {},
     "output_type": "execute_result"
    }
   ],
   "source": [
    "sorted(a)"
   ]
  },
  {
   "cell_type": "code",
   "execution_count": 11,
   "id": "c5dc74d6",
   "metadata": {},
   "outputs": [
    {
     "data": {
      "text/plain": [
       "['KAALLALLALALA']"
      ]
     },
     "execution_count": 11,
     "metadata": {},
     "output_type": "execute_result"
    }
   ],
   "source": [
    "d=[\"kaallallalala\"]\n",
    "f=list(map(lambda x:x.upper(),d))\n",
    "f"
   ]
  },
  {
   "cell_type": "code",
   "execution_count": 14,
   "id": "d5429768",
   "metadata": {},
   "outputs": [
    {
     "data": {
      "text/plain": [
       "[('kamal', 500), ('rajini', 100)]"
      ]
     },
     "execution_count": 14,
     "metadata": {},
     "output_type": "execute_result"
    }
   ],
   "source": [
    "c=[(\"kamal\",500),(\"rajini\",100)]\n",
    "c"
   ]
  },
  {
   "cell_type": "code",
   "execution_count": 15,
   "id": "47c38bc9",
   "metadata": {},
   "outputs": [
    {
     "data": {
      "text/plain": [
       "[('kamal', 500), ('rajini', 100)]"
      ]
     },
     "execution_count": 15,
     "metadata": {},
     "output_type": "execute_result"
    }
   ],
   "source": [
    "sorted(c)"
   ]
  },
  {
   "cell_type": "code",
   "execution_count": 19,
   "id": "440da8e1",
   "metadata": {},
   "outputs": [
    {
     "data": {
      "text/plain": [
       "[('kamal', 500), ('rajini', 100)]"
      ]
     },
     "execution_count": 19,
     "metadata": {},
     "output_type": "execute_result"
    }
   ],
   "source": [
    "sorted(c,key=lambda x:x[1],reverse=True)"
   ]
  },
  {
   "cell_type": "code",
   "execution_count": 21,
   "id": "edd75e4a",
   "metadata": {},
   "outputs": [
    {
     "data": {
      "text/plain": [
       "[('kamal', 500)]"
      ]
     },
     "execution_count": 21,
     "metadata": {},
     "output_type": "execute_result"
    }
   ],
   "source": [
    "c1=list(filter(lambda x:x[1]>200,c))\n",
    "c1"
   ]
  },
  {
   "cell_type": "code",
   "execution_count": 24,
   "id": "afc71fd4",
   "metadata": {},
   "outputs": [
    {
     "name": "stdout",
     "output_type": "stream",
     "text": [
      "even: [56, 24, 66, 4, 54, 34]\n"
     ]
    }
   ],
   "source": [
    "lis=[1,23,56,7,3,24,66,4,67,54,34]\n",
    "eve=list(filter(lambda x:x%2==0,lis))\n",
    "print(\"even:\",eve)"
   ]
  },
  {
   "cell_type": "code",
   "execution_count": 29,
   "id": "ef9d545f",
   "metadata": {},
   "outputs": [
    {
     "data": {
      "text/plain": [
       "339"
      ]
     },
     "execution_count": 29,
     "metadata": {},
     "output_type": "execute_result"
    }
   ],
   "source": [
    "from functools import reduce\n",
    "reduce(lambda x,y:x+y,lis)"
   ]
  },
  {
   "cell_type": "code",
   "execution_count": 31,
   "id": "4eb48b3c",
   "metadata": {},
   "outputs": [
    {
     "data": {
      "text/plain": [
       "67"
      ]
     },
     "execution_count": 31,
     "metadata": {},
     "output_type": "execute_result"
    }
   ],
   "source": [
    "reduce(lambda x,y:x if x>y else y,lis)"
   ]
  },
  {
   "cell_type": "code",
   "execution_count": 32,
   "id": "c82a4ec8",
   "metadata": {},
   "outputs": [
    {
     "data": {
      "text/plain": [
       "1"
      ]
     },
     "execution_count": 32,
     "metadata": {},
     "output_type": "execute_result"
    }
   ],
   "source": [
    "reduce(lambda x,y:x if x<y else y,lis)"
   ]
  },
  {
   "cell_type": "code",
   "execution_count": 54,
   "id": "24267460",
   "metadata": {},
   "outputs": [
    {
     "name": "stdout",
     "output_type": "stream",
     "text": [
      "0\n",
      "1\n",
      "2\n",
      "3\n",
      "5\n",
      "7\n",
      "11\n",
      "13\n",
      "17\n",
      "19\n",
      "23\n",
      "29\n",
      "31\n",
      "37\n",
      "41\n",
      "43\n",
      "47\n",
      "53\n"
     ]
    }
   ],
   "source": [
    "s=0\n",
    "d=54\n",
    "for i in range(s,d):\n",
    "    for j in range(2,i):\n",
    "        if(i%j==0):\n",
    "            break\n",
    "    else:\n",
    "            print(i)"
   ]
  },
  {
   "cell_type": "code",
   "execution_count": 53,
   "id": "09a90f90",
   "metadata": {},
   "outputs": [
    {
     "name": "stdout",
     "output_type": "stream",
     "text": [
      "0\n",
      "1\n",
      "1\n",
      "2\n",
      "3\n",
      "5\n",
      "8\n",
      "13\n",
      "21\n",
      "34\n"
     ]
    }
   ],
   "source": [
    "def feb(n):\n",
    "    a=0\n",
    "    b=1\n",
    "    if n==0:\n",
    "        print(a)\n",
    "    elif n==1:\n",
    "        print(a)\n",
    "        print(b)\n",
    "    elif n>1:\n",
    "        print(a)\n",
    "        print(b)\n",
    "        for i in range(n-2):\n",
    "            c=a+b\n",
    "            print(c)\n",
    "            a=b\n",
    "            b=c\n",
    "            \n",
    "feb(10)"
   ]
  },
  {
   "cell_type": "code",
   "execution_count": 8,
   "id": "fc3287bf",
   "metadata": {},
   "outputs": [
    {
     "name": "stdout",
     "output_type": "stream",
     "text": [
      "120\n"
     ]
    }
   ],
   "source": [
    "def fact(n):\n",
    "    ou=1\n",
    "    while n>0:\n",
    "        ou*=n\n",
    "        n-=1\n",
    "    print(ou)\n",
    "fact(5)"
   ]
  },
  {
   "cell_type": "code",
   "execution_count": 46,
   "id": "019aeb1d",
   "metadata": {},
   "outputs": [
    {
     "ename": "SyntaxError",
     "evalue": "invalid syntax (590197119.py, line 9)",
     "output_type": "error",
     "traceback": [
      "\u001b[1;36m  Input \u001b[1;32mIn [46]\u001b[1;36m\u001b[0m\n\u001b[1;33m    for i in range(6,)\u001b[0m\n\u001b[1;37m                      ^\u001b[0m\n\u001b[1;31mSyntaxError\u001b[0m\u001b[1;31m:\u001b[0m invalid syntax\n"
     ]
    }
   ],
   "source": [
    "def fact(n):\n",
    "    ou=1\n",
    "    while n>1:\n",
    "        ou*=n\n",
    "        n-=1\n",
    "    print(ou)\n",
    "fact(5)\n",
    "\n"
   ]
  },
  {
   "cell_type": "code",
   "execution_count": 49,
   "id": "ea5cd425",
   "metadata": {},
   "outputs": [
    {
     "name": "stdout",
     "output_type": "stream",
     "text": [
      "720\n"
     ]
    }
   ],
   "source": [
    "a=1\n",
    "for i in range(6,0,-1):\n",
    "    a*=i\n",
    "print(a)\n",
    "    "
   ]
  },
  {
   "cell_type": "code",
   "execution_count": 52,
   "id": "dda87278",
   "metadata": {},
   "outputs": [
    {
     "name": "stdout",
     "output_type": "stream",
     "text": [
      "90\n",
      "2\n"
     ]
    }
   ],
   "source": [
    "a=90\n",
    "b=2\n",
    "a,b=b,a\n",
    "print(b)\n",
    "print(a)"
   ]
  },
  {
   "cell_type": "code",
   "execution_count": 15,
   "id": "af86c308",
   "metadata": {},
   "outputs": [
    {
     "data": {
      "text/plain": [
       "7768989"
      ]
     },
     "execution_count": 15,
     "metadata": {},
     "output_type": "execute_result"
    }
   ],
   "source": [
    "nu=9898677\n",
    "int(str(nu)[::-1])"
   ]
  },
  {
   "cell_type": "code",
   "execution_count": 17,
   "id": "7755da34",
   "metadata": {},
   "outputs": [
    {
     "data": {
      "text/plain": [
       "99117733"
      ]
     },
     "execution_count": 17,
     "metadata": {},
     "output_type": "execute_result"
    }
   ],
   "source": [
    "rt=33771199\n",
    "int(str(rt)[::-1])"
   ]
  },
  {
   "cell_type": "code",
   "execution_count": 22,
   "id": "03d0ae8d",
   "metadata": {},
   "outputs": [
    {
     "name": "stdout",
     "output_type": "stream",
     "text": [
      "20\n",
      "40\n",
      "60\n",
      "80\n",
      "100\n"
     ]
    }
   ],
   "source": [
    "bu= [10, 20, 30, 40, 50, 60, 70, 80, 90, 100]\n",
    "for i in bu[1::2]:\n",
    "    print(i)"
   ]
  },
  {
   "cell_type": "code",
   "execution_count": 23,
   "id": "7b732b3e",
   "metadata": {},
   "outputs": [
    {
     "name": "stdout",
     "output_type": "stream",
     "text": [
      "1\n",
      "8\n",
      "27\n",
      "64\n",
      "125\n"
     ]
    }
   ],
   "source": [
    "def cu(n):\n",
    "    for i in range(1,n+1):\n",
    "        print(i**3)\n",
    "\n",
    "cu(5)"
   ]
  },
  {
   "cell_type": "code",
   "execution_count": 24,
   "id": "38695501",
   "metadata": {},
   "outputs": [
    {
     "name": "stdout",
     "output_type": "stream",
     "text": [
      "1\n",
      "8\n",
      "27\n",
      "64\n",
      "125\n"
     ]
    }
   ],
   "source": [
    "def fa(n):\n",
    "    for i in range(1,n+1):\n",
    "        print(i**3)\n",
    "fa(5)"
   ]
  },
  {
   "cell_type": "code",
   "execution_count": 39,
   "id": "a5d073d4",
   "metadata": {},
   "outputs": [
    {
     "name": "stdout",
     "output_type": "stream",
     "text": [
      "2\n",
      "22\n",
      "222\n",
      "2222\n",
      "22222\n",
      "24690\n"
     ]
    }
   ],
   "source": [
    "def nuse(n):\n",
    "    ou=0\n",
    "    se=0\n",
    "    for i in range(n):\n",
    "        se=(se*10)+2\n",
    "        ou+=se\n",
    "        print(se)\n",
    "    print(ou)\n",
    "nuse(5)\n",
    "   \n",
    "    "
   ]
  },
  {
   "cell_type": "code",
   "execution_count": 42,
   "id": "3341352f",
   "metadata": {},
   "outputs": [
    {
     "name": "stdout",
     "output_type": "stream",
     "text": [
      "24690\n"
     ]
    }
   ],
   "source": [
    "def ns(n):\n",
    "    ou=0\n",
    "    se=0\n",
    "    for i in range(n):\n",
    "        se=se*10+2\n",
    "        ou+=se\n",
    "        \n",
    "    print(ou)\n",
    "ns(5)"
   ]
  },
  {
   "cell_type": "code",
   "execution_count": 39,
   "id": "88e993b3",
   "metadata": {},
   "outputs": [],
   "source": [
    "import pandas as pd\n",
    "import numpy as np\n",
    "from sklearn.tree import DecisionTreeRegressor\n",
    "from sklearn.model_selection import train_test_split"
   ]
  },
  {
   "cell_type": "code",
   "execution_count": 40,
   "id": "1ed091c9",
   "metadata": {},
   "outputs": [
    {
     "data": {
      "text/html": [
       "<div>\n",
       "<style scoped>\n",
       "    .dataframe tbody tr th:only-of-type {\n",
       "        vertical-align: middle;\n",
       "    }\n",
       "\n",
       "    .dataframe tbody tr th {\n",
       "        vertical-align: top;\n",
       "    }\n",
       "\n",
       "    .dataframe thead th {\n",
       "        text-align: right;\n",
       "    }\n",
       "</style>\n",
       "<table border=\"1\" class=\"dataframe\">\n",
       "  <thead>\n",
       "    <tr style=\"text-align: right;\">\n",
       "      <th></th>\n",
       "      <th>age</th>\n",
       "      <th>sex</th>\n",
       "      <th>bmi</th>\n",
       "      <th>children</th>\n",
       "      <th>smoker</th>\n",
       "      <th>region</th>\n",
       "      <th>charges</th>\n",
       "    </tr>\n",
       "  </thead>\n",
       "  <tbody>\n",
       "    <tr>\n",
       "      <th>0</th>\n",
       "      <td>19</td>\n",
       "      <td>female</td>\n",
       "      <td>27.900</td>\n",
       "      <td>0</td>\n",
       "      <td>yes</td>\n",
       "      <td>southwest</td>\n",
       "      <td>16884.92400</td>\n",
       "    </tr>\n",
       "    <tr>\n",
       "      <th>1</th>\n",
       "      <td>18</td>\n",
       "      <td>male</td>\n",
       "      <td>33.770</td>\n",
       "      <td>1</td>\n",
       "      <td>no</td>\n",
       "      <td>southeast</td>\n",
       "      <td>1725.55230</td>\n",
       "    </tr>\n",
       "    <tr>\n",
       "      <th>2</th>\n",
       "      <td>28</td>\n",
       "      <td>male</td>\n",
       "      <td>33.000</td>\n",
       "      <td>3</td>\n",
       "      <td>no</td>\n",
       "      <td>southeast</td>\n",
       "      <td>4449.46200</td>\n",
       "    </tr>\n",
       "    <tr>\n",
       "      <th>3</th>\n",
       "      <td>33</td>\n",
       "      <td>male</td>\n",
       "      <td>22.705</td>\n",
       "      <td>0</td>\n",
       "      <td>no</td>\n",
       "      <td>northwest</td>\n",
       "      <td>21984.47061</td>\n",
       "    </tr>\n",
       "    <tr>\n",
       "      <th>4</th>\n",
       "      <td>32</td>\n",
       "      <td>male</td>\n",
       "      <td>28.880</td>\n",
       "      <td>0</td>\n",
       "      <td>no</td>\n",
       "      <td>northwest</td>\n",
       "      <td>3866.85520</td>\n",
       "    </tr>\n",
       "  </tbody>\n",
       "</table>\n",
       "</div>"
      ],
      "text/plain": [
       "   age     sex     bmi  children smoker     region      charges\n",
       "0   19  female  27.900         0    yes  southwest  16884.92400\n",
       "1   18    male  33.770         1     no  southeast   1725.55230\n",
       "2   28    male  33.000         3     no  southeast   4449.46200\n",
       "3   33    male  22.705         0     no  northwest  21984.47061\n",
       "4   32    male  28.880         0     no  northwest   3866.85520"
      ]
     },
     "execution_count": 40,
     "metadata": {},
     "output_type": "execute_result"
    }
   ],
   "source": [
    "s=pd.read_csv('insurance.csv')\n",
    "s.head()"
   ]
  },
  {
   "cell_type": "code",
   "execution_count": 41,
   "id": "98d293f5",
   "metadata": {},
   "outputs": [
    {
     "data": {
      "text/plain": [
       "age         0\n",
       "sex         0\n",
       "bmi         0\n",
       "children    0\n",
       "smoker      0\n",
       "region      0\n",
       "charges     0\n",
       "dtype: int64"
      ]
     },
     "execution_count": 41,
     "metadata": {},
     "output_type": "execute_result"
    }
   ],
   "source": [
    "s.isnull().sum()"
   ]
  },
  {
   "cell_type": "code",
   "execution_count": 42,
   "id": "ffa9cd13",
   "metadata": {},
   "outputs": [
    {
     "data": {
      "text/plain": [
       "1"
      ]
     },
     "execution_count": 42,
     "metadata": {},
     "output_type": "execute_result"
    }
   ],
   "source": [
    "s.duplicated().sum()"
   ]
  },
  {
   "cell_type": "code",
   "execution_count": 43,
   "id": "b8e9d26b",
   "metadata": {},
   "outputs": [],
   "source": [
    "ss=pd.get_dummies(s,drop_first=True)"
   ]
  },
  {
   "cell_type": "code",
   "execution_count": 44,
   "id": "d71f5ce2",
   "metadata": {},
   "outputs": [
    {
     "data": {
      "text/html": [
       "<div>\n",
       "<style scoped>\n",
       "    .dataframe tbody tr th:only-of-type {\n",
       "        vertical-align: middle;\n",
       "    }\n",
       "\n",
       "    .dataframe tbody tr th {\n",
       "        vertical-align: top;\n",
       "    }\n",
       "\n",
       "    .dataframe thead th {\n",
       "        text-align: right;\n",
       "    }\n",
       "</style>\n",
       "<table border=\"1\" class=\"dataframe\">\n",
       "  <thead>\n",
       "    <tr style=\"text-align: right;\">\n",
       "      <th></th>\n",
       "      <th>age</th>\n",
       "      <th>bmi</th>\n",
       "      <th>children</th>\n",
       "      <th>charges</th>\n",
       "      <th>sex_male</th>\n",
       "      <th>smoker_yes</th>\n",
       "      <th>region_northwest</th>\n",
       "      <th>region_southeast</th>\n",
       "      <th>region_southwest</th>\n",
       "    </tr>\n",
       "  </thead>\n",
       "  <tbody>\n",
       "    <tr>\n",
       "      <th>0</th>\n",
       "      <td>19</td>\n",
       "      <td>27.900</td>\n",
       "      <td>0</td>\n",
       "      <td>16884.92400</td>\n",
       "      <td>0</td>\n",
       "      <td>1</td>\n",
       "      <td>0</td>\n",
       "      <td>0</td>\n",
       "      <td>1</td>\n",
       "    </tr>\n",
       "    <tr>\n",
       "      <th>1</th>\n",
       "      <td>18</td>\n",
       "      <td>33.770</td>\n",
       "      <td>1</td>\n",
       "      <td>1725.55230</td>\n",
       "      <td>1</td>\n",
       "      <td>0</td>\n",
       "      <td>0</td>\n",
       "      <td>1</td>\n",
       "      <td>0</td>\n",
       "    </tr>\n",
       "    <tr>\n",
       "      <th>2</th>\n",
       "      <td>28</td>\n",
       "      <td>33.000</td>\n",
       "      <td>3</td>\n",
       "      <td>4449.46200</td>\n",
       "      <td>1</td>\n",
       "      <td>0</td>\n",
       "      <td>0</td>\n",
       "      <td>1</td>\n",
       "      <td>0</td>\n",
       "    </tr>\n",
       "    <tr>\n",
       "      <th>3</th>\n",
       "      <td>33</td>\n",
       "      <td>22.705</td>\n",
       "      <td>0</td>\n",
       "      <td>21984.47061</td>\n",
       "      <td>1</td>\n",
       "      <td>0</td>\n",
       "      <td>1</td>\n",
       "      <td>0</td>\n",
       "      <td>0</td>\n",
       "    </tr>\n",
       "    <tr>\n",
       "      <th>4</th>\n",
       "      <td>32</td>\n",
       "      <td>28.880</td>\n",
       "      <td>0</td>\n",
       "      <td>3866.85520</td>\n",
       "      <td>1</td>\n",
       "      <td>0</td>\n",
       "      <td>1</td>\n",
       "      <td>0</td>\n",
       "      <td>0</td>\n",
       "    </tr>\n",
       "    <tr>\n",
       "      <th>...</th>\n",
       "      <td>...</td>\n",
       "      <td>...</td>\n",
       "      <td>...</td>\n",
       "      <td>...</td>\n",
       "      <td>...</td>\n",
       "      <td>...</td>\n",
       "      <td>...</td>\n",
       "      <td>...</td>\n",
       "      <td>...</td>\n",
       "    </tr>\n",
       "    <tr>\n",
       "      <th>1333</th>\n",
       "      <td>50</td>\n",
       "      <td>30.970</td>\n",
       "      <td>3</td>\n",
       "      <td>10600.54830</td>\n",
       "      <td>1</td>\n",
       "      <td>0</td>\n",
       "      <td>1</td>\n",
       "      <td>0</td>\n",
       "      <td>0</td>\n",
       "    </tr>\n",
       "    <tr>\n",
       "      <th>1334</th>\n",
       "      <td>18</td>\n",
       "      <td>31.920</td>\n",
       "      <td>0</td>\n",
       "      <td>2205.98080</td>\n",
       "      <td>0</td>\n",
       "      <td>0</td>\n",
       "      <td>0</td>\n",
       "      <td>0</td>\n",
       "      <td>0</td>\n",
       "    </tr>\n",
       "    <tr>\n",
       "      <th>1335</th>\n",
       "      <td>18</td>\n",
       "      <td>36.850</td>\n",
       "      <td>0</td>\n",
       "      <td>1629.83350</td>\n",
       "      <td>0</td>\n",
       "      <td>0</td>\n",
       "      <td>0</td>\n",
       "      <td>1</td>\n",
       "      <td>0</td>\n",
       "    </tr>\n",
       "    <tr>\n",
       "      <th>1336</th>\n",
       "      <td>21</td>\n",
       "      <td>25.800</td>\n",
       "      <td>0</td>\n",
       "      <td>2007.94500</td>\n",
       "      <td>0</td>\n",
       "      <td>0</td>\n",
       "      <td>0</td>\n",
       "      <td>0</td>\n",
       "      <td>1</td>\n",
       "    </tr>\n",
       "    <tr>\n",
       "      <th>1337</th>\n",
       "      <td>61</td>\n",
       "      <td>29.070</td>\n",
       "      <td>0</td>\n",
       "      <td>29141.36030</td>\n",
       "      <td>0</td>\n",
       "      <td>1</td>\n",
       "      <td>1</td>\n",
       "      <td>0</td>\n",
       "      <td>0</td>\n",
       "    </tr>\n",
       "  </tbody>\n",
       "</table>\n",
       "<p>1338 rows × 9 columns</p>\n",
       "</div>"
      ],
      "text/plain": [
       "      age     bmi  children      charges  sex_male  smoker_yes  \\\n",
       "0      19  27.900         0  16884.92400         0           1   \n",
       "1      18  33.770         1   1725.55230         1           0   \n",
       "2      28  33.000         3   4449.46200         1           0   \n",
       "3      33  22.705         0  21984.47061         1           0   \n",
       "4      32  28.880         0   3866.85520         1           0   \n",
       "...   ...     ...       ...          ...       ...         ...   \n",
       "1333   50  30.970         3  10600.54830         1           0   \n",
       "1334   18  31.920         0   2205.98080         0           0   \n",
       "1335   18  36.850         0   1629.83350         0           0   \n",
       "1336   21  25.800         0   2007.94500         0           0   \n",
       "1337   61  29.070         0  29141.36030         0           1   \n",
       "\n",
       "      region_northwest  region_southeast  region_southwest  \n",
       "0                    0                 0                 1  \n",
       "1                    0                 1                 0  \n",
       "2                    0                 1                 0  \n",
       "3                    1                 0                 0  \n",
       "4                    1                 0                 0  \n",
       "...                ...               ...               ...  \n",
       "1333                 1                 0                 0  \n",
       "1334                 0                 0                 0  \n",
       "1335                 0                 1                 0  \n",
       "1336                 0                 0                 1  \n",
       "1337                 1                 0                 0  \n",
       "\n",
       "[1338 rows x 9 columns]"
      ]
     },
     "execution_count": 44,
     "metadata": {},
     "output_type": "execute_result"
    }
   ],
   "source": [
    "ss"
   ]
  },
  {
   "cell_type": "code",
   "execution_count": 45,
   "id": "cbf83589",
   "metadata": {},
   "outputs": [],
   "source": [
    "x=ss.drop('charges',axis='columns')\n",
    "y=ss['charges']"
   ]
  },
  {
   "cell_type": "code",
   "execution_count": 46,
   "id": "bd9fcf39",
   "metadata": {},
   "outputs": [],
   "source": [
    "X_train,X_test,y_train,y_test=train_test_split(x,y,test_size=.25,random_state=3)"
   ]
  },
  {
   "cell_type": "code",
   "execution_count": 47,
   "id": "b75701f1",
   "metadata": {},
   "outputs": [
    {
     "data": {
      "text/plain": [
       "DecisionTreeRegressor()"
      ]
     },
     "execution_count": 47,
     "metadata": {},
     "output_type": "execute_result"
    }
   ],
   "source": [
    "dc=DecisionTreeRegressor()\n",
    "dc.fit(X_train,y_train)"
   ]
  },
  {
   "cell_type": "code",
   "execution_count": 48,
   "id": "a6ed23e2",
   "metadata": {},
   "outputs": [
    {
     "data": {
      "text/plain": [
       "0.9982456382035372"
      ]
     },
     "execution_count": 48,
     "metadata": {},
     "output_type": "execute_result"
    }
   ],
   "source": [
    "dc.score(X_train,y_train)"
   ]
  },
  {
   "cell_type": "code",
   "execution_count": 50,
   "id": "693a07e9",
   "metadata": {},
   "outputs": [
    {
     "data": {
      "text/plain": [
       "0.7027943077772276"
      ]
     },
     "execution_count": 50,
     "metadata": {},
     "output_type": "execute_result"
    }
   ],
   "source": [
    "dc.score(X_test,y_test)"
   ]
  },
  {
   "cell_type": "code",
   "execution_count": 51,
   "id": "b91c8980",
   "metadata": {},
   "outputs": [],
   "source": [
    "y_pre=dc.predict(X_test)"
   ]
  },
  {
   "cell_type": "code",
   "execution_count": 54,
   "id": "061e9495",
   "metadata": {},
   "outputs": [],
   "source": [
    "from sklearn.metrics import r2_score,mean_squared_error,mean_absolute_error"
   ]
  },
  {
   "cell_type": "code",
   "execution_count": 55,
   "id": "f447f3d5",
   "metadata": {},
   "outputs": [
    {
     "data": {
      "text/plain": [
       "0.7027943077772276"
      ]
     },
     "execution_count": 55,
     "metadata": {},
     "output_type": "execute_result"
    }
   ],
   "source": [
    "r2_score(y_test,y_pre)"
   ]
  },
  {
   "cell_type": "code",
   "execution_count": 56,
   "id": "d44f8dba",
   "metadata": {},
   "outputs": [
    {
     "name": "stdout",
     "output_type": "stream",
     "text": [
      "41776341.83819651\n",
      "3152.2504351970147\n"
     ]
    }
   ],
   "source": [
    "mse=mean_squared_error(y_test,y_pre)\n",
    "mae=mean_absolute_error(y_test,y_pre)\n",
    "print(mse)\n",
    "print(mae)"
   ]
  },
  {
   "cell_type": "code",
   "execution_count": 59,
   "id": "b5f2fc72",
   "metadata": {},
   "outputs": [
    {
     "name": "stderr",
     "output_type": "stream",
     "text": [
      "C:\\Users\\kamal\\anaconda3\\lib\\site-packages\\seaborn\\distributions.py:2619: FutureWarning: `distplot` is a deprecated function and will be removed in a future version. Please adapt your code to use either `displot` (a figure-level function with similar flexibility) or `kdeplot` (an axes-level function for kernel density plots).\n",
      "  warnings.warn(msg, FutureWarning)\n",
      "C:\\Users\\kamal\\anaconda3\\lib\\site-packages\\seaborn\\distributions.py:2619: FutureWarning: `distplot` is a deprecated function and will be removed in a future version. Please adapt your code to use either `displot` (a figure-level function with similar flexibility) or `kdeplot` (an axes-level function for kernel density plots).\n",
      "  warnings.warn(msg, FutureWarning)\n"
     ]
    },
    {
     "data": {
      "text/plain": [
       "<matplotlib.legend.Legend at 0x2348d6ae7f0>"
      ]
     },
     "execution_count": 59,
     "metadata": {},
     "output_type": "execute_result"
    },
    {
     "data": {
      "image/png": "[encoded data removed]",
      "text/plain": [
       "<Figure size 432x288 with 1 Axes>"
      ]
     },
     "metadata": {
      "needs_background": "light"
     },
     "output_type": "display_data"
    }
   ],
   "source": [
    "import seaborn as sns\n",
    "import matplotlib.pyplot as plt\n",
    "sns.distplot(y_test,hist=False,label='Actual')\n",
    "sns.distplot(y_pre,hist=False,label='Predicted')\n",
    "plt.legend()"
   ]
  },
  {
   "cell_type": "code",
   "execution_count": 60,
   "id": "d9b665c3",
   "metadata": {},
   "outputs": [],
   "source": [
    "from sklearn.tree import DecisionTreeClassifier\n",
    "from sklearn import tree"
   ]
  },
  {
   "cell_type": "code",
   "execution_count": 61,
   "id": "76e0b162",
   "metadata": {},
   "outputs": [
    {
     "data": {
      "text/html": [
       "<div>\n",
       "<style scoped>\n",
       "    .dataframe tbody tr th:only-of-type {\n",
       "        vertical-align: middle;\n",
       "    }\n",
       "\n",
       "    .dataframe tbody tr th {\n",
       "        vertical-align: top;\n",
       "    }\n",
       "\n",
       "    .dataframe thead th {\n",
       "        text-align: right;\n",
       "    }\n",
       "</style>\n",
       "<table border=\"1\" class=\"dataframe\">\n",
       "  <thead>\n",
       "    <tr style=\"text-align: right;\">\n",
       "      <th></th>\n",
       "      <th>BP</th>\n",
       "      <th>Chlstrl</th>\n",
       "      <th>Age</th>\n",
       "      <th>Prgnt</th>\n",
       "      <th>AnxtyLH</th>\n",
       "      <th>DrugR</th>\n",
       "    </tr>\n",
       "  </thead>\n",
       "  <tbody>\n",
       "    <tr>\n",
       "      <th>0</th>\n",
       "      <td>100</td>\n",
       "      <td>150</td>\n",
       "      <td>20</td>\n",
       "      <td>0</td>\n",
       "      <td>0</td>\n",
       "      <td>0</td>\n",
       "    </tr>\n",
       "    <tr>\n",
       "      <th>1</th>\n",
       "      <td>120</td>\n",
       "      <td>160</td>\n",
       "      <td>16</td>\n",
       "      <td>0</td>\n",
       "      <td>0</td>\n",
       "      <td>0</td>\n",
       "    </tr>\n",
       "    <tr>\n",
       "      <th>2</th>\n",
       "      <td>110</td>\n",
       "      <td>150</td>\n",
       "      <td>18</td>\n",
       "      <td>0</td>\n",
       "      <td>0</td>\n",
       "      <td>0</td>\n",
       "    </tr>\n",
       "    <tr>\n",
       "      <th>3</th>\n",
       "      <td>100</td>\n",
       "      <td>175</td>\n",
       "      <td>25</td>\n",
       "      <td>0</td>\n",
       "      <td>0</td>\n",
       "      <td>0</td>\n",
       "    </tr>\n",
       "    <tr>\n",
       "      <th>4</th>\n",
       "      <td>95</td>\n",
       "      <td>250</td>\n",
       "      <td>36</td>\n",
       "      <td>0</td>\n",
       "      <td>0</td>\n",
       "      <td>0</td>\n",
       "    </tr>\n",
       "  </tbody>\n",
       "</table>\n",
       "</div>"
      ],
      "text/plain": [
       "    BP  Chlstrl  Age  Prgnt  AnxtyLH  DrugR\n",
       "0  100      150   20      0        0      0\n",
       "1  120      160   16      0        0      0\n",
       "2  110      150   18      0        0      0\n",
       "3  100      175   25      0        0      0\n",
       "4   95      250   36      0        0      0"
      ]
     },
     "execution_count": 61,
     "metadata": {},
     "output_type": "execute_result"
    }
   ],
   "source": [
    "d=pd.read_csv('cs2m.csv')\n",
    "d.head()"
   ]
  },
  {
   "cell_type": "code",
   "execution_count": 62,
   "id": "53677987",
   "metadata": {},
   "outputs": [
    {
     "name": "stdout",
     "output_type": "stream",
     "text": [
      "<class 'pandas.core.frame.DataFrame'>\n",
      "RangeIndex: 30 entries, 0 to 29\n",
      "Data columns (total 6 columns):\n",
      " #   Column   Non-Null Count  Dtype\n",
      "---  ------   --------------  -----\n",
      " 0   BP       30 non-null     int64\n",
      " 1   Chlstrl  30 non-null     int64\n",
      " 2   Age      30 non-null     int64\n",
      " 3   Prgnt    30 non-null     int64\n",
      " 4   AnxtyLH  30 non-null     int64\n",
      " 5   DrugR    30 non-null     int64\n",
      "dtypes: int64(6)\n",
      "memory usage: 1.5 KB\n"
     ]
    }
   ],
   "source": [
    "d.info()"
   ]
  },
  {
   "cell_type": "code",
   "execution_count": 63,
   "id": "4a3056ae",
   "metadata": {},
   "outputs": [],
   "source": [
    "x=d.iloc[:,:-1]\n",
    "y=d.iloc[:,-1]"
   ]
  },
  {
   "cell_type": "code",
   "execution_count": 64,
   "id": "86b03715",
   "metadata": {},
   "outputs": [],
   "source": [
    "X_train,X_test,y_train,y_test=train_test_split(x,y,test_size=.25,random_state=3)"
   ]
  },
  {
   "cell_type": "code",
   "execution_count": 65,
   "id": "b4c24495",
   "metadata": {},
   "outputs": [
    {
     "data": {
      "text/plain": [
       "DecisionTreeClassifier()"
      ]
     },
     "execution_count": 65,
     "metadata": {},
     "output_type": "execute_result"
    }
   ],
   "source": [
    "dc=DecisionTreeClassifier()\n",
    "dc.fit(X_train,y_train)"
   ]
  },
  {
   "cell_type": "code",
   "execution_count": 66,
   "id": "417d93d7",
   "metadata": {},
   "outputs": [
    {
     "data": {
      "text/plain": [
       "1.0"
      ]
     },
     "execution_count": 66,
     "metadata": {},
     "output_type": "execute_result"
    }
   ],
   "source": [
    "dc.score(X_train,y_train)"
   ]
  },
  {
   "cell_type": "code",
   "execution_count": 67,
   "id": "39dada7a",
   "metadata": {},
   "outputs": [
    {
     "data": {
      "text/plain": [
       "0.625"
      ]
     },
     "execution_count": 67,
     "metadata": {},
     "output_type": "execute_result"
    }
   ],
   "source": [
    "dc.score(X_test,y_test)"
   ]
  },
  {
   "cell_type": "code",
   "execution_count": 68,
   "id": "13f83c86",
   "metadata": {},
   "outputs": [],
   "source": [
    "y_pr=dc.predict(X_test)"
   ]
  },
  {
   "cell_type": "code",
   "execution_count": 69,
   "id": "4289b22a",
   "metadata": {},
   "outputs": [
    {
     "name": "stderr",
     "output_type": "stream",
     "text": [
      "C:\\Users\\kamal\\anaconda3\\lib\\site-packages\\seaborn\\distributions.py:2619: FutureWarning: `distplot` is a deprecated function and will be removed in a future version. Please adapt your code to use either `displot` (a figure-level function with similar flexibility) or `kdeplot` (an axes-level function for kernel density plots).\n",
      "  warnings.warn(msg, FutureWarning)\n",
      "C:\\Users\\kamal\\anaconda3\\lib\\site-packages\\seaborn\\distributions.py:2619: FutureWarning: `distplot` is a deprecated function and will be removed in a future version. Please adapt your code to use either `displot` (a figure-level function with similar flexibility) or `kdeplot` (an axes-level function for kernel density plots).\n",
      "  warnings.warn(msg, FutureWarning)\n"
     ]
    },
    {
     "data": {
      "text/plain": [
       "<matplotlib.legend.Legend at 0x2348c53efd0>"
      ]
     },
     "execution_count": 69,
     "metadata": {},
     "output_type": "execute_result"
    },
    {
     "data": {
      "image/png": "[encoded data removed]",
      "text/plain": [
       "<Figure size 432x288 with 1 Axes>"
      ]
     },
     "metadata": {
      "needs_background": "light"
     },
     "output_type": "display_data"
    }
   ],
   "source": [
    "import seaborn as sns\n",
    "import matplotlib.pyplot as plt\n",
    "sns.distplot(y_test,hist=False,label='Actual')\n",
    "sns.distplot(y_pr,hist=False,label='Predicted')\n",
    "plt.legend()"
   ]
  },
  {
   "cell_type": "code",
   "execution_count": 70,
   "id": "03961b12",
   "metadata": {},
   "outputs": [],
   "source": [
    "param={'criterion':['gini','entropy'],\n",
    "       'max_depth':[2,3,4,5,6],\n",
    "       'min_samples_split':[2,3,4]\n",
    "      }"
   ]
  },
  {
   "cell_type": "code",
   "execution_count": 71,
   "id": "0661d3ff",
   "metadata": {},
   "outputs": [],
   "source": [
    "from sklearn.model_selection import GridSearchCV\n",
    "mdl=DecisionTreeClassifier()\n",
    "gs=GridSearchCV(mdl,param_grid=param,cv=4)"
   ]
  },
  {
   "cell_type": "code",
   "execution_count": 72,
   "id": "25b87ae0",
   "metadata": {},
   "outputs": [
    {
     "data": {
      "text/plain": [
       "GridSearchCV(cv=4, estimator=DecisionTreeClassifier(),\n",
       "             param_grid={'criterion': ['gini', 'entropy'],\n",
       "                         'max_depth': [2, 3, 4, 5, 6],\n",
       "                         'min_samples_split': [2, 3, 4]})"
      ]
     },
     "execution_count": 72,
     "metadata": {},
     "output_type": "execute_result"
    }
   ],
   "source": [
    "gs.fit(X_train,y_train)"
   ]
  },
  {
   "cell_type": "code",
   "execution_count": 73,
   "id": "0c0cb1b3",
   "metadata": {},
   "outputs": [
    {
     "data": {
      "text/plain": [
       "{'criterion': 'gini', 'max_depth': 3, 'min_samples_split': 2}"
      ]
     },
     "execution_count": 73,
     "metadata": {},
     "output_type": "execute_result"
    }
   ],
   "source": [
    "gs.best_params_"
   ]
  },
  {
   "cell_type": "code",
   "execution_count": 77,
   "id": "c1bdbdf9",
   "metadata": {},
   "outputs": [],
   "source": [
    "mdl2=DecisionTreeClassifier(criterion='gini',max_depth=3,min_samples_split=2)"
   ]
  },
  {
   "cell_type": "code",
   "execution_count": 78,
   "id": "bffc6ee4",
   "metadata": {},
   "outputs": [
    {
     "data": {
      "text/plain": [
       "DecisionTreeClassifier(max_depth=3)"
      ]
     },
     "execution_count": 78,
     "metadata": {},
     "output_type": "execute_result"
    }
   ],
   "source": [
    "mdl2.fit(X_train,y_train)"
   ]
  },
  {
   "cell_type": "code",
   "execution_count": 80,
   "id": "685aa527",
   "metadata": {},
   "outputs": [],
   "source": [
    "y_pp=mdl2.predict(X_test)"
   ]
  },
  {
   "cell_type": "code",
   "execution_count": 81,
   "id": "7d67b26d",
   "metadata": {},
   "outputs": [
    {
     "data": {
      "text/plain": [
       "0.9090909090909091"
      ]
     },
     "execution_count": 81,
     "metadata": {},
     "output_type": "execute_result"
    }
   ],
   "source": [
    "gs.score(X_train,y_train)"
   ]
  },
  {
   "cell_type": "code",
   "execution_count": 83,
   "id": "bc0a635d",
   "metadata": {},
   "outputs": [
    {
     "data": {
      "text/plain": [
       "0.625"
      ]
     },
     "execution_count": 83,
     "metadata": {},
     "output_type": "execute_result"
    }
   ],
   "source": [
    "gs.score(X_test,y_test)"
   ]
  },
  {
   "cell_type": "code",
   "execution_count": 84,
   "id": "acb487b1",
   "metadata": {},
   "outputs": [
    {
     "name": "stderr",
     "output_type": "stream",
     "text": [
      "C:\\Users\\kamal\\anaconda3\\lib\\site-packages\\seaborn\\distributions.py:2619: FutureWarning: `distplot` is a deprecated function and will be removed in a future version. Please adapt your code to use either `displot` (a figure-level function with similar flexibility) or `kdeplot` (an axes-level function for kernel density plots).\n",
      "  warnings.warn(msg, FutureWarning)\n",
      "C:\\Users\\kamal\\anaconda3\\lib\\site-packages\\seaborn\\distributions.py:2619: FutureWarning: `distplot` is a deprecated function and will be removed in a future version. Please adapt your code to use either `displot` (a figure-level function with similar flexibility) or `kdeplot` (an axes-level function for kernel density plots).\n",
      "  warnings.warn(msg, FutureWarning)\n"
     ]
    },
    {
     "data": {
      "text/plain": [
       "<matplotlib.legend.Legend at 0x2348e86b9a0>"
      ]
     },
     "execution_count": 84,
     "metadata": {},
     "output_type": "execute_result"
    },
    {
     "data": {
      "image/png": "[encoded data removed]",
      "text/plain": [
       "<Figure size 432x288 with 1 Axes>"
      ]
     },
     "metadata": {
      "needs_background": "light"
     },
     "output_type": "display_data"
    }
   ],
   "source": [
    "import seaborn as sns\n",
    "import matplotlib.pyplot as plt\n",
    "sns.distplot(y_test,hist=False,label='Actual')\n",
    "sns.distplot(y_pp,hist=False,label='Predicted')\n",
    "plt.legend()"
   ]
  },
  {
   "cell_type": "code",
   "execution_count": 85,
   "id": "70dc35db",
   "metadata": {},
   "outputs": [
    {
     "name": "stderr",
     "output_type": "stream",
     "text": [
      "C:\\Users\\kamal\\anaconda3\\lib\\site-packages\\seaborn\\distributions.py:2619: FutureWarning: `distplot` is a deprecated function and will be removed in a future version. Please adapt your code to use either `displot` (a figure-level function with similar flexibility) or `kdeplot` (an axes-level function for kernel density plots).\n",
      "  warnings.warn(msg, FutureWarning)\n",
      "C:\\Users\\kamal\\anaconda3\\lib\\site-packages\\seaborn\\distributions.py:2619: FutureWarning: `distplot` is a deprecated function and will be removed in a future version. Please adapt your code to use either `displot` (a figure-level function with similar flexibility) or `kdeplot` (an axes-level function for kernel density plots).\n",
      "  warnings.warn(msg, FutureWarning)\n"
     ]
    },
    {
     "data": {
      "text/plain": [
       "<matplotlib.legend.Legend at 0x2348e8d69a0>"
      ]
     },
     "execution_count": 85,
     "metadata": {},
     "output_type": "execute_result"
    },
    {
     "data": {
      "image/png": "[encoded data removed]",
      "text/plain": [
       "<Figure size 432x288 with 1 Axes>"
      ]
     },
     "metadata": {
      "needs_background": "light"
     },
     "output_type": "display_data"
    }
   ],
   "source": [
    "import seaborn as sns\n",
    "import matplotlib.pyplot as plt\n",
    "sns.distplot(y_test,hist=False,label='Actual')\n",
    "sns.distplot(y_pr,hist=False,label='Predicted')\n",
    "plt.legend()"
   ]
  },
  {
   "cell_type": "code",
   "execution_count": 86,
   "id": "d7698e09",
   "metadata": {},
   "outputs": [
    {
     "data": {
      "text/plain": [
       "array([0, 0, 1, 0, 1, 0, 1, 0], dtype=int64)"
      ]
     },
     "execution_count": 86,
     "metadata": {},
     "output_type": "execute_result"
    }
   ],
   "source": [
    "y_pp"
   ]
  },
  {
   "cell_type": "code",
   "execution_count": 87,
   "id": "cb142a4d",
   "metadata": {},
   "outputs": [],
   "source": [
    "from sklearn.ensemble import RandomForestClassifier"
   ]
  },
  {
   "cell_type": "code",
   "execution_count": 88,
   "id": "f284e9aa",
   "metadata": {},
   "outputs": [
    {
     "data": {
      "text/plain": [
       "RandomForestClassifier()"
      ]
     },
     "execution_count": 88,
     "metadata": {},
     "output_type": "execute_result"
    }
   ],
   "source": [
    "rc=RandomForestClassifier()\n",
    "rc.fit(X_train,y_train)"
   ]
  },
  {
   "cell_type": "code",
   "execution_count": 89,
   "id": "0c89b5a7",
   "metadata": {},
   "outputs": [
    {
     "data": {
      "text/plain": [
       "1.0"
      ]
     },
     "execution_count": 89,
     "metadata": {},
     "output_type": "execute_result"
    }
   ],
   "source": [
    "rc.score(X_train,y_train)"
   ]
  },
  {
   "cell_type": "code",
   "execution_count": 90,
   "id": "18174574",
   "metadata": {},
   "outputs": [
    {
     "data": {
      "text/plain": [
       "0.625"
      ]
     },
     "execution_count": 90,
     "metadata": {},
     "output_type": "execute_result"
    }
   ],
   "source": [
    "rc.score(X_test,y_test)"
   ]
  },
  {
   "cell_type": "code",
   "execution_count": null,
   "id": "7f81c843",
   "metadata": {},
   "outputs": [],
   "source": []
  }
 ],
 "metadata": {
  "kernelspec": {
   "display_name": "Python 3 (ipykernel)",
   "language": "python",
   "name": "python3"
  },
  "language_info": {
   "codemirror_mode": {
    "name": "ipython",
    "version": 3
   },
   "file_extension": ".py",
   "mimetype": "text/x-python",
   "name": "python",
   "nbconvert_exporter": "python",
   "pygments_lexer": "ipython3",
   "version": "3.9.12"
  }
 },
 "nbformat": 4,
 "nbformat_minor": 5
}
