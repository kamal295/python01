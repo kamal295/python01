{
 "cells": [
  {
   "cell_type": "code",
   "execution_count": 5,
   "id": "51583105",
   "metadata": {},
   "outputs": [
    {
     "data": {
      "text/plain": [
       "1.2"
      ]
     },
     "execution_count": 5,
     "metadata": {},
     "output_type": "execute_result"
    }
   ],
   "source": [
    "a=1.2\n",
    "a"
   ]
  },
  {
   "cell_type": "code",
   "execution_count": 6,
   "id": "e363b368",
   "metadata": {},
   "outputs": [
    {
     "data": {
      "text/plain": [
       "float"
      ]
     },
     "execution_count": 6,
     "metadata": {},
     "output_type": "execute_result"
    }
   ],
   "source": [
    "type(a)"
   ]
  },
  {
   "cell_type": "code",
   "execution_count": 3,
   "id": "b5f3697f",
   "metadata": {},
   "outputs": [
    {
     "data": {
      "text/plain": [
       "'abishek'"
      ]
     },
     "execution_count": 3,
     "metadata": {},
     "output_type": "execute_result"
    }
   ],
   "source": [
    "b=\"abishek\"\n",
    "b"
   ]
  },
  {
   "cell_type": "code",
   "execution_count": 4,
   "id": "9404f1bd",
   "metadata": {},
   "outputs": [
    {
     "data": {
      "text/plain": [
       "str"
      ]
     },
     "execution_count": 4,
     "metadata": {},
     "output_type": "execute_result"
    }
   ],
   "source": [
    "type(b)"
   ]
  },
  {
   "cell_type": "code",
   "execution_count": 7,
   "id": "fdff7142",
   "metadata": {},
   "outputs": [
    {
     "data": {
      "text/plain": [
       "'hello world'"
      ]
     },
     "execution_count": 7,
     "metadata": {},
     "output_type": "execute_result"
    }
   ],
   "source": [
    "\"hello world\""
   ]
  },
  {
   "cell_type": "code",
   "execution_count": 8,
   "id": "ae2cfb5b",
   "metadata": {},
   "outputs": [],
   "source": [
    "a=10"
   ]
  },
  {
   "cell_type": "code",
   "execution_count": 9,
   "id": "e9f91c81",
   "metadata": {},
   "outputs": [
    {
     "data": {
      "text/plain": [
       "20"
      ]
     },
     "execution_count": 9,
     "metadata": {},
     "output_type": "execute_result"
    }
   ],
   "source": [
    "#maths\n",
    "10+a"
   ]
  },
  {
   "cell_type": "code",
   "execution_count": 10,
   "id": "dfcff35f",
   "metadata": {},
   "outputs": [
    {
     "data": {
      "text/plain": [
       "10"
      ]
     },
     "execution_count": 10,
     "metadata": {},
     "output_type": "execute_result"
    }
   ],
   "source": [
    "a"
   ]
  },
  {
   "cell_type": "code",
   "execution_count": 11,
   "id": "90d72b93",
   "metadata": {},
   "outputs": [
    {
     "data": {
      "text/plain": [
       "3399924"
      ]
     },
     "execution_count": 11,
     "metadata": {},
     "output_type": "execute_result"
    }
   ],
   "source": [
    "abi=24\n",
    "d=34\n",
    "e=100000\n",
    "a=abi+d*e-100\n",
    "a"
   ]
  },
  {
   "cell_type": "code",
   "execution_count": 12,
   "id": "7f0c6ef3",
   "metadata": {},
   "outputs": [
    {
     "data": {
      "text/plain": [
       "False"
      ]
     },
     "execution_count": 12,
     "metadata": {},
     "output_type": "execute_result"
    }
   ],
   "source": [
    "d>e"
   ]
  },
  {
   "cell_type": "code",
   "execution_count": 13,
   "id": "ddb3942c",
   "metadata": {},
   "outputs": [
    {
     "data": {
      "text/plain": [
       "True"
      ]
     },
     "execution_count": 13,
     "metadata": {},
     "output_type": "execute_result"
    }
   ],
   "source": [
    "e>d"
   ]
  },
  {
   "cell_type": "code",
   "execution_count": 15,
   "id": "a5916f76",
   "metadata": {},
   "outputs": [],
   "source": [
    "name,age,location=\"abi\",22,\"bgl\","
   ]
  },
  {
   "cell_type": "code",
   "execution_count": 16,
   "id": "f1b120f8",
   "metadata": {},
   "outputs": [
    {
     "data": {
      "text/plain": [
       "'abi'"
      ]
     },
     "execution_count": 16,
     "metadata": {},
     "output_type": "execute_result"
    }
   ],
   "source": [
    "name"
   ]
  },
  {
   "cell_type": "code",
   "execution_count": 17,
   "id": "15ba71c5",
   "metadata": {},
   "outputs": [
    {
     "data": {
      "text/plain": [
       "22"
      ]
     },
     "execution_count": 17,
     "metadata": {},
     "output_type": "execute_result"
    }
   ],
   "source": [
    "age"
   ]
  },
  {
   "cell_type": "code",
   "execution_count": 18,
   "id": "e66c966f",
   "metadata": {},
   "outputs": [],
   "source": [
    "s=\"\""
   ]
  },
  {
   "cell_type": "code",
   "execution_count": 19,
   "id": "fc2171b4",
   "metadata": {},
   "outputs": [
    {
     "data": {
      "text/plain": [
       "''"
      ]
     },
     "execution_count": 19,
     "metadata": {},
     "output_type": "execute_result"
    }
   ],
   "source": [
    "s"
   ]
  },
  {
   "cell_type": "code",
   "execution_count": 22,
   "id": "c37ff3c2",
   "metadata": {},
   "outputs": [
    {
     "data": {
      "text/plain": [
       "[22, 44, 'abi', 33]"
      ]
     },
     "execution_count": 22,
     "metadata": {},
     "output_type": "execute_result"
    }
   ],
   "source": [
    "#list/tuple-immutable/dict/set/string\"\"--immutable\n",
    "#list-------[]--hetrogenousdata---mutable(modify,append,slicind,insert,drop)\n",
    "a=[22,44,\"abi\",33]\n",
    "a\n"
   ]
  },
  {
   "cell_type": "code",
   "execution_count": 25,
   "id": "0b74ec00",
   "metadata": {},
   "outputs": [],
   "source": [
    "a.append(\"kamal\")"
   ]
  },
  {
   "cell_type": "code",
   "execution_count": 27,
   "id": "71b3991e",
   "metadata": {},
   "outputs": [
    {
     "data": {
      "text/plain": [
       "'kamal'"
      ]
     },
     "execution_count": 27,
     "metadata": {},
     "output_type": "execute_result"
    }
   ],
   "source": [
    "a.pop()"
   ]
  },
  {
   "cell_type": "code",
   "execution_count": 29,
   "id": "bc5e6e5c",
   "metadata": {},
   "outputs": [
    {
     "data": {
      "text/plain": [
       "'kamal'"
      ]
     },
     "execution_count": 29,
     "metadata": {},
     "output_type": "execute_result"
    }
   ],
   "source": [
    "a.pop()"
   ]
  },
  {
   "cell_type": "code",
   "execution_count": 30,
   "id": "f570ea6e",
   "metadata": {},
   "outputs": [
    {
     "data": {
      "text/plain": [
       "[22, 44, 'abi', 33]"
      ]
     },
     "execution_count": 30,
     "metadata": {},
     "output_type": "execute_result"
    }
   ],
   "source": [
    "a"
   ]
  },
  {
   "cell_type": "code",
   "execution_count": 32,
   "id": "9c8b6977",
   "metadata": {},
   "outputs": [
    {
     "data": {
      "text/plain": [
       "44"
      ]
     },
     "execution_count": 32,
     "metadata": {},
     "output_type": "execute_result"
    }
   ],
   "source": [
    "a.pop(1)"
   ]
  },
  {
   "cell_type": "code",
   "execution_count": 33,
   "id": "fb694251",
   "metadata": {},
   "outputs": [
    {
     "data": {
      "text/plain": [
       "[22, 'abi', 33]"
      ]
     },
     "execution_count": 33,
     "metadata": {},
     "output_type": "execute_result"
    }
   ],
   "source": [
    "a"
   ]
  },
  {
   "cell_type": "code",
   "execution_count": 34,
   "id": "82914c69",
   "metadata": {},
   "outputs": [
    {
     "data": {
      "text/plain": [
       "[22, 'abi', 33]"
      ]
     },
     "execution_count": 34,
     "metadata": {},
     "output_type": "execute_result"
    }
   ],
   "source": [
    "a[:]"
   ]
  },
  {
   "cell_type": "code",
   "execution_count": 35,
   "id": "9c80c899",
   "metadata": {},
   "outputs": [
    {
     "data": {
      "text/plain": [
       "[22, 'abi', 33]"
      ]
     },
     "execution_count": 35,
     "metadata": {},
     "output_type": "execute_result"
    }
   ],
   "source": [
    "a[::]"
   ]
  },
  {
   "cell_type": "code",
   "execution_count": 41,
   "id": "a61adc31",
   "metadata": {},
   "outputs": [
    {
     "data": {
      "text/plain": [
       "[22]"
      ]
     },
     "execution_count": 41,
     "metadata": {},
     "output_type": "execute_result"
    }
   ],
   "source": [
    "a[0:1]"
   ]
  },
  {
   "cell_type": "code",
   "execution_count": 42,
   "id": "eb03550a",
   "metadata": {},
   "outputs": [
    {
     "data": {
      "text/plain": [
       "33"
      ]
     },
     "execution_count": 42,
     "metadata": {},
     "output_type": "execute_result"
    }
   ],
   "source": [
    "a[-1]"
   ]
  },
  {
   "cell_type": "code",
   "execution_count": 43,
   "id": "fe01b6a7",
   "metadata": {},
   "outputs": [],
   "source": [
    "a[2]=\"kamal\""
   ]
  },
  {
   "cell_type": "code",
   "execution_count": 44,
   "id": "fc496723",
   "metadata": {},
   "outputs": [
    {
     "data": {
      "text/plain": [
       "[22, 'abi', 'kamal']"
      ]
     },
     "execution_count": 44,
     "metadata": {},
     "output_type": "execute_result"
    }
   ],
   "source": [
    "a"
   ]
  },
  {
   "cell_type": "code",
   "execution_count": 45,
   "id": "2e3ae51b",
   "metadata": {},
   "outputs": [],
   "source": [
    "a.insert(2,\"asd\")"
   ]
  },
  {
   "cell_type": "code",
   "execution_count": 46,
   "id": "0bd74c04",
   "metadata": {},
   "outputs": [
    {
     "data": {
      "text/plain": [
       "[22, 'abi', 'asd', 'kamal']"
      ]
     },
     "execution_count": 46,
     "metadata": {},
     "output_type": "execute_result"
    }
   ],
   "source": [
    "a"
   ]
  },
  {
   "cell_type": "code",
   "execution_count": 47,
   "id": "81882d86",
   "metadata": {},
   "outputs": [
    {
     "data": {
      "text/plain": [
       "'kamal'"
      ]
     },
     "execution_count": 47,
     "metadata": {},
     "output_type": "execute_result"
    }
   ],
   "source": [
    "a.pop(3)"
   ]
  },
  {
   "cell_type": "code",
   "execution_count": 48,
   "id": "04da56d8",
   "metadata": {},
   "outputs": [
    {
     "data": {
      "text/plain": [
       "[22, 'abi', 'asd']"
      ]
     },
     "execution_count": 48,
     "metadata": {},
     "output_type": "execute_result"
    }
   ],
   "source": [
    "a"
   ]
  },
  {
   "cell_type": "code",
   "execution_count": 49,
   "id": "ce110006",
   "metadata": {},
   "outputs": [],
   "source": [
    "a.append(\"kamal\")"
   ]
  },
  {
   "cell_type": "code",
   "execution_count": 50,
   "id": "e80954ce",
   "metadata": {},
   "outputs": [
    {
     "data": {
      "text/plain": [
       "[22, 'abi', 'asd', 'kamal']"
      ]
     },
     "execution_count": 50,
     "metadata": {},
     "output_type": "execute_result"
    }
   ],
   "source": [
    "a"
   ]
  },
  {
   "cell_type": "code",
   "execution_count": 54,
   "id": "a4075b3a",
   "metadata": {},
   "outputs": [],
   "source": [
    "#2 dict={key:value}--\n",
    "a={\"name\":[\"rajini\",\"sharu\"],\"age\":[22,44]}"
   ]
  },
  {
   "cell_type": "code",
   "execution_count": 55,
   "id": "88cf2c20",
   "metadata": {},
   "outputs": [
    {
     "data": {
      "text/plain": [
       "{'name': ['rajini', 'sharu'], 'age': [22, 44]}"
      ]
     },
     "execution_count": 55,
     "metadata": {},
     "output_type": "execute_result"
    }
   ],
   "source": [
    "a"
   ]
  },
  {
   "cell_type": "code",
   "execution_count": 56,
   "id": "1d58ca6a",
   "metadata": {},
   "outputs": [
    {
     "data": {
      "text/plain": [
       "['rajini', 'sharu']"
      ]
     },
     "execution_count": 56,
     "metadata": {},
     "output_type": "execute_result"
    }
   ],
   "source": [
    "a['name']"
   ]
  },
  {
   "cell_type": "code",
   "execution_count": 61,
   "id": "e84855b5",
   "metadata": {},
   "outputs": [
    {
     "data": {
      "text/plain": [
       "'sharu'"
      ]
     },
     "execution_count": 61,
     "metadata": {},
     "output_type": "execute_result"
    }
   ],
   "source": [
    "a['name'][1]"
   ]
  },
  {
   "cell_type": "code",
   "execution_count": 62,
   "id": "404a0925",
   "metadata": {},
   "outputs": [
    {
     "data": {
      "text/plain": [
       "[22, 44]"
      ]
     },
     "execution_count": 62,
     "metadata": {},
     "output_type": "execute_result"
    }
   ],
   "source": [
    "a['age']"
   ]
  },
  {
   "cell_type": "code",
   "execution_count": 63,
   "id": "9c825c74",
   "metadata": {},
   "outputs": [
    {
     "data": {
      "text/plain": [
       "22"
      ]
     },
     "execution_count": 63,
     "metadata": {},
     "output_type": "execute_result"
    }
   ],
   "source": [
    "a['age'][0]"
   ]
  },
  {
   "cell_type": "code",
   "execution_count": 148,
   "id": "c0d46823",
   "metadata": {},
   "outputs": [],
   "source": [
    "s={\"name\":[\"abi\",\"sharu\"],\"age\":[22,33]}"
   ]
  },
  {
   "cell_type": "code",
   "execution_count": 151,
   "id": "ba04a4ae",
   "metadata": {},
   "outputs": [
    {
     "data": {
      "text/plain": [
       "dict_values([['abi', 'sharu'], [22, 33]])"
      ]
     },
     "execution_count": 151,
     "metadata": {},
     "output_type": "execute_result"
    }
   ],
   "source": [
    "#s.keys()\n",
    "s.values()"
   ]
  },
  {
   "cell_type": "code",
   "execution_count": 80,
   "id": "b11aceaa",
   "metadata": {},
   "outputs": [
    {
     "data": {
      "text/plain": [
       "['abi', 'sharu']"
      ]
     },
     "execution_count": 80,
     "metadata": {},
     "output_type": "execute_result"
    }
   ],
   "source": [
    "s['name']"
   ]
  },
  {
   "cell_type": "code",
   "execution_count": 81,
   "id": "e0bdf62d",
   "metadata": {},
   "outputs": [
    {
     "data": {
      "text/plain": [
       "[22, 33]"
      ]
     },
     "execution_count": 81,
     "metadata": {},
     "output_type": "execute_result"
    }
   ],
   "source": [
    "s['age']"
   ]
  },
  {
   "cell_type": "code",
   "execution_count": 87,
   "id": "93c7eefb",
   "metadata": {},
   "outputs": [
    {
     "data": {
      "text/plain": [
       "'r'"
      ]
     },
     "execution_count": 87,
     "metadata": {},
     "output_type": "execute_result"
    }
   ],
   "source": [
    "s['name'][1][3]"
   ]
  },
  {
   "cell_type": "code",
   "execution_count": 84,
   "id": "56d145da",
   "metadata": {},
   "outputs": [
    {
     "data": {
      "text/plain": [
       "{'name': 'dsa'}"
      ]
     },
     "execution_count": 84,
     "metadata": {},
     "output_type": "execute_result"
    }
   ],
   "source": [
    "a={\"name\":\"dsa\"}\n",
    "a"
   ]
  },
  {
   "cell_type": "code",
   "execution_count": 85,
   "id": "ac70236c",
   "metadata": {},
   "outputs": [
    {
     "data": {
      "text/plain": [
       "'d'"
      ]
     },
     "execution_count": 85,
     "metadata": {},
     "output_type": "execute_result"
    }
   ],
   "source": [
    "a[\"name\"][0]   #index means it range starts from 0"
   ]
  },
  {
   "cell_type": "code",
   "execution_count": 92,
   "id": "6eb43ac0",
   "metadata": {},
   "outputs": [],
   "source": [
    "#method -1\n",
    "s={\"name\":[\"abi\",\"sharu\"],\"age\":[22,33]}\n",
    "#method-2\n",
    "a={}\n",
    "a[\"name\"]=[\"abi\",\"hjg\"],\n",
    "a['age']=[22,33]"
   ]
  },
  {
   "cell_type": "code",
   "execution_count": 93,
   "id": "f74f19d6",
   "metadata": {},
   "outputs": [
    {
     "data": {
      "text/plain": [
       "{'name': (['abi', 'hjg'],), 'age': [22, 33]}"
      ]
     },
     "execution_count": 93,
     "metadata": {},
     "output_type": "execute_result"
    }
   ],
   "source": [
    "a"
   ]
  },
  {
   "cell_type": "code",
   "execution_count": 94,
   "id": "7a8beda0",
   "metadata": {},
   "outputs": [
    {
     "data": {
      "text/plain": [
       "{'key1': {'cupkey': {'cofeekey': 'value'}, 'cupkey2': [1, 2, 3]}}"
      ]
     },
     "execution_count": 94,
     "metadata": {},
     "output_type": "execute_result"
    }
   ],
   "source": [
    "#dict-{key:values}\n",
    "#list-[5,6,\"kaml\"]\n",
    "#tuple-(4,5,\"popdd\")\n",
    "#set={4,5,\"eee\"}\n",
    "d={\"key1\":{\"cupkey\":{'cofeekey':'value'},'cupkey2':[1,2,3]}}\n",
    "d"
   ]
  },
  {
   "cell_type": "code",
   "execution_count": 101,
   "id": "a70a0322",
   "metadata": {},
   "outputs": [
    {
     "data": {
      "text/plain": [
       "'e'"
      ]
     },
     "execution_count": 101,
     "metadata": {},
     "output_type": "execute_result"
    }
   ],
   "source": [
    "d['key1']['cupkey']['cofeekey'][4]"
   ]
  },
  {
   "cell_type": "code",
   "execution_count": 102,
   "id": "cf1461e5",
   "metadata": {},
   "outputs": [
    {
     "data": {
      "text/plain": [
       "2"
      ]
     },
     "execution_count": 102,
     "metadata": {},
     "output_type": "execute_result"
    }
   ],
   "source": [
    "d['key1']['cupkey2'][1]"
   ]
  },
  {
   "cell_type": "code",
   "execution_count": 103,
   "id": "6ecdc003",
   "metadata": {},
   "outputs": [
    {
     "data": {
      "text/plain": [
       "dict_keys(['key1'])"
      ]
     },
     "execution_count": 103,
     "metadata": {},
     "output_type": "execute_result"
    }
   ],
   "source": [
    "d.keys()"
   ]
  },
  {
   "cell_type": "code",
   "execution_count": 104,
   "id": "711c926f",
   "metadata": {},
   "outputs": [
    {
     "data": {
      "text/plain": [
       "dict_values([{'cupkey': {'cofeekey': 'value'}, 'cupkey2': [1, 2, 3]}])"
      ]
     },
     "execution_count": 104,
     "metadata": {},
     "output_type": "execute_result"
    }
   ],
   "source": [
    "d.values()"
   ]
  },
  {
   "cell_type": "code",
   "execution_count": 105,
   "id": "b6726f16",
   "metadata": {},
   "outputs": [
    {
     "data": {
      "text/plain": [
       "dict_items([('key1', {'cupkey': {'cofeekey': 'value'}, 'cupkey2': [1, 2, 3]})])"
      ]
     },
     "execution_count": 105,
     "metadata": {},
     "output_type": "execute_result"
    }
   ],
   "source": [
    "d.items()"
   ]
  },
  {
   "cell_type": "code",
   "execution_count": 106,
   "id": "7202b1c0",
   "metadata": {},
   "outputs": [
    {
     "data": {
      "text/plain": [
       "{'name': (['abi', 'hjg'],), 'age': [22, 33]}"
      ]
     },
     "execution_count": 106,
     "metadata": {},
     "output_type": "execute_result"
    }
   ],
   "source": [
    "a"
   ]
  },
  {
   "cell_type": "code",
   "execution_count": 107,
   "id": "9e082e79",
   "metadata": {},
   "outputs": [
    {
     "ename": "TypeError",
     "evalue": "unhashable type: 'list'",
     "output_type": "error",
     "traceback": [
      "\u001b[1;31m---------------------------------------------------------------------------\u001b[0m",
      "\u001b[1;31mTypeError\u001b[0m                                 Traceback (most recent call last)",
      "Input \u001b[1;32mIn [107]\u001b[0m, in \u001b[0;36m<cell line: 1>\u001b[1;34m()\u001b[0m\n\u001b[1;32m----> 1\u001b[0m \u001b[38;5;28;43mdict\u001b[39;49m\u001b[43m(\u001b[49m\u001b[38;5;28;43mzip\u001b[39;49m\u001b[43m(\u001b[49m\u001b[43ma\u001b[49m\u001b[43m[\u001b[49m\u001b[38;5;124;43m'\u001b[39;49m\u001b[38;5;124;43mname\u001b[39;49m\u001b[38;5;124;43m'\u001b[39;49m\u001b[43m]\u001b[49m\u001b[43m,\u001b[49m\u001b[43ma\u001b[49m\u001b[43m[\u001b[49m\u001b[38;5;124;43m'\u001b[39;49m\u001b[38;5;124;43mage\u001b[39;49m\u001b[38;5;124;43m'\u001b[39;49m\u001b[43m]\u001b[49m\u001b[43m)\u001b[49m\u001b[43m)\u001b[49m\n",
      "\u001b[1;31mTypeError\u001b[0m: unhashable type: 'list'"
     ]
    }
   ],
   "source": [
    "dict(zip(a['name'],a['age']))"
   ]
  },
  {
   "cell_type": "code",
   "execution_count": 108,
   "id": "c023c1f3",
   "metadata": {},
   "outputs": [
    {
     "data": {
      "text/plain": [
       "set()"
      ]
     },
     "execution_count": 108,
     "metadata": {},
     "output_type": "execute_result"
    }
   ],
   "source": [
    "#set(),{}\n",
    "a=set()\n",
    "a"
   ]
  },
  {
   "cell_type": "code",
   "execution_count": 116,
   "id": "970f5b66",
   "metadata": {},
   "outputs": [],
   "source": [
    "a.add(1)"
   ]
  },
  {
   "cell_type": "code",
   "execution_count": 117,
   "id": "5ea4c02d",
   "metadata": {},
   "outputs": [
    {
     "data": {
      "text/plain": [
       "{1, 2}"
      ]
     },
     "execution_count": 117,
     "metadata": {},
     "output_type": "execute_result"
    }
   ],
   "source": [
    "a"
   ]
  },
  {
   "cell_type": "code",
   "execution_count": 118,
   "id": "99bfd086",
   "metadata": {},
   "outputs": [
    {
     "data": {
      "text/plain": [
       "{1, 2, 4}"
      ]
     },
     "execution_count": 118,
     "metadata": {},
     "output_type": "execute_result"
    }
   ],
   "source": [
    "a={1,2,2,4}\n",
    "a"
   ]
  },
  {
   "cell_type": "code",
   "execution_count": 141,
   "id": "be0e50ea",
   "metadata": {},
   "outputs": [
    {
     "data": {
      "text/plain": [
       "{3, 4, 5, 6}"
      ]
     },
     "execution_count": 141,
     "metadata": {},
     "output_type": "execute_result"
    }
   ],
   "source": [
    "b={3,4,5,6,4}\n",
    "b"
   ]
  },
  {
   "cell_type": "code",
   "execution_count": 152,
   "id": "667e539c",
   "metadata": {},
   "outputs": [
    {
     "data": {
      "text/plain": [
       "set()"
      ]
     },
     "execution_count": 152,
     "metadata": {},
     "output_type": "execute_result"
    }
   ],
   "source": [
    "b.clear()\n",
    "b"
   ]
  },
  {
   "cell_type": "code",
   "execution_count": 122,
   "id": "f4ef6f2b",
   "metadata": {},
   "outputs": [
    {
     "data": {
      "text/plain": [
       "[1, 2, 4]"
      ]
     },
     "execution_count": 122,
     "metadata": {},
     "output_type": "execute_result"
    }
   ],
   "source": [
    "q=list(a)\n",
    "q"
   ]
  },
  {
   "cell_type": "code",
   "execution_count": 124,
   "id": "91682b4a",
   "metadata": {},
   "outputs": [
    {
     "data": {
      "text/plain": [
       "[1, 2, 4, 56666, 56666]"
      ]
     },
     "execution_count": 124,
     "metadata": {},
     "output_type": "execute_result"
    }
   ],
   "source": [
    "q.append(56666)\n",
    "q"
   ]
  },
  {
   "cell_type": "code",
   "execution_count": 125,
   "id": "5c18c6ee",
   "metadata": {},
   "outputs": [
    {
     "data": {
      "text/plain": [
       "{1, 2, 4, 56666}"
      ]
     },
     "execution_count": 125,
     "metadata": {},
     "output_type": "execute_result"
    }
   ],
   "source": [
    "a=set(q)\n",
    "a"
   ]
  },
  {
   "cell_type": "code",
   "execution_count": 131,
   "id": "c116c391",
   "metadata": {},
   "outputs": [
    {
     "data": {
      "text/plain": [
       "{6}"
      ]
     },
     "execution_count": 131,
     "metadata": {},
     "output_type": "execute_result"
    }
   ],
   "source": [
    "#intersection,difference\n",
    "a={1,2,3,5}\n",
    "b={3,5,6,2}\n",
    "b.difference(a)\n"
   ]
  },
  {
   "cell_type": "code",
   "execution_count": 129,
   "id": "ff3515e8",
   "metadata": {},
   "outputs": [
    {
     "data": {
      "text/plain": [
       "{2, 3, 5}"
      ]
     },
     "execution_count": 129,
     "metadata": {},
     "output_type": "execute_result"
    }
   ],
   "source": [
    "a.intersection(b)"
   ]
  },
  {
   "cell_type": "code",
   "execution_count": 132,
   "id": "dec902ac",
   "metadata": {},
   "outputs": [
    {
     "data": {
      "text/plain": [
       "{1, 6}"
      ]
     },
     "execution_count": 132,
     "metadata": {},
     "output_type": "execute_result"
    }
   ],
   "source": [
    "b.symmetric_difference(a)"
   ]
  },
  {
   "cell_type": "code",
   "execution_count": 133,
   "id": "d72c151c",
   "metadata": {},
   "outputs": [
    {
     "data": {
      "text/plain": [
       "{1, 2, 3, 5, 6}"
      ]
     },
     "execution_count": 133,
     "metadata": {},
     "output_type": "execute_result"
    }
   ],
   "source": [
    "a.union(b)"
   ]
  },
  {
   "cell_type": "code",
   "execution_count": 134,
   "id": "a88d6589",
   "metadata": {},
   "outputs": [
    {
     "data": {
      "text/plain": [
       "False"
      ]
     },
     "execution_count": 134,
     "metadata": {},
     "output_type": "execute_result"
    }
   ],
   "source": [
    "a.isdisjoint(b)"
   ]
  },
  {
   "cell_type": "code",
   "execution_count": 153,
   "id": "3044c653",
   "metadata": {},
   "outputs": [
    {
     "data": {
      "text/plain": [
       "False"
      ]
     },
     "execution_count": 153,
     "metadata": {},
     "output_type": "execute_result"
    }
   ],
   "source": [
    "a={1,2,3,5}\n",
    "c={7}\n",
    "a.isdisjoint(c)"
   ]
  },
  {
   "cell_type": "code",
   "execution_count": 154,
   "id": "892a0221",
   "metadata": {},
   "outputs": [
    {
     "data": {
      "text/plain": [
       "False"
      ]
     },
     "execution_count": 154,
     "metadata": {},
     "output_type": "execute_result"
    }
   ],
   "source": [
    "a.issubset(c)"
   ]
  },
  {
   "cell_type": "code",
   "execution_count": 155,
   "id": "8914eddd",
   "metadata": {},
   "outputs": [
    {
     "data": {
      "text/plain": [
       "True"
      ]
     },
     "execution_count": 155,
     "metadata": {},
     "output_type": "execute_result"
    }
   ],
   "source": [
    "a.issuperset(c)"
   ]
  },
  {
   "cell_type": "code",
   "execution_count": 139,
   "id": "20b59bfb",
   "metadata": {},
   "outputs": [],
   "source": [
    "a.update(b)"
   ]
  },
  {
   "cell_type": "code",
   "execution_count": 140,
   "id": "11be49f7",
   "metadata": {},
   "outputs": [],
   "source": [
    "#ifelse elif/for/while-do/listcomp/lambda/function"
   ]
  },
  {
   "cell_type": "code",
   "execution_count": 156,
   "id": "f6ef5687",
   "metadata": {},
   "outputs": [
    {
     "data": {
      "text/plain": [
       "(1, 2.3, 3, 'leo')"
      ]
     },
     "execution_count": 156,
     "metadata": {},
     "output_type": "execute_result"
    }
   ],
   "source": [
    "#tuple--()\n",
    "s=(1,2.3,3,\"leo\")\n",
    "s"
   ]
  },
  {
   "cell_type": "code",
   "execution_count": 157,
   "id": "cf46a8c3",
   "metadata": {},
   "outputs": [
    {
     "ename": "AttributeError",
     "evalue": "'tuple' object has no attribute 'append'",
     "output_type": "error",
     "traceback": [
      "\u001b[1;31m---------------------------------------------------------------------------\u001b[0m",
      "\u001b[1;31mAttributeError\u001b[0m                            Traceback (most recent call last)",
      "Input \u001b[1;32mIn [157]\u001b[0m, in \u001b[0;36m<cell line: 1>\u001b[1;34m()\u001b[0m\n\u001b[1;32m----> 1\u001b[0m \u001b[43ms\u001b[49m\u001b[38;5;241;43m.\u001b[39;49m\u001b[43mappend\u001b[49m(\u001b[38;5;241m4\u001b[39m)\n",
      "\u001b[1;31mAttributeError\u001b[0m: 'tuple' object has no attribute 'append'"
     ]
    }
   ],
   "source": []
  },
  {
   "cell_type": "code",
   "execution_count": 147,
   "id": "ede54298",
   "metadata": {},
   "outputs": [
    {
     "data": {
      "text/plain": [
       "(1, 2)"
      ]
     },
     "execution_count": 147,
     "metadata": {},
     "output_type": "execute_result"
    }
   ],
   "source": [
    "s[:2]"
   ]
  },
  {
   "cell_type": "markdown",
   "id": "ec7afb8e",
   "metadata": {},
   "source": [
    "\n",
    "#condition statemen if statement\n",
    "if, elif, else Statements\n",
    "if Statements in Python allows us to tell the computer to perform alternative actions based on a certain set of results.\n",
    "\n",
    "Verbally, we can imagine we are telling the computer:\n",
    "\n",
    "\"Hey if this case happens, perform some action\"\n",
    "\n",
    "We can then expand the idea further with elif and else statements, which allow us to tell the computer:\n",
    "\n",
    "\"Hey if this case happens, perform some action. Else, if another case happens, perform some other action. Else, if none of the above cases happened, perform this action.\"\n",
    "\n",
    "Let's go ahead and look at the syntax format for if statements to get a better idea of this:"
   ]
  },
  {
   "cell_type": "code",
   "execution_count": 1,
   "id": "c6a908e1",
   "metadata": {},
   "outputs": [
    {
     "name": "stdout",
     "output_type": "stream",
     "text": [
      "it was true\n"
     ]
    }
   ],
   "source": [
    "if True:\n",
    "    print('it was true')"
   ]
  },
  {
   "cell_type": "code",
   "execution_count": 2,
   "id": "393fe81d",
   "metadata": {},
   "outputs": [
    {
     "name": "stdout",
     "output_type": "stream",
     "text": [
      "kannan\n"
     ]
    }
   ],
   "source": [
    "x=False\n",
    "if x:\n",
    "    print(\"kamal\")\n",
    "else:\n",
    "    print(\"kannan\")"
   ]
  },
  {
   "cell_type": "code",
   "execution_count": null,
   "id": "541cb107",
   "metadata": {},
   "outputs": [],
   "source": [
    "#multiple branches if/elif/else (nested structure)(comparison)\n",
    "floor=int(input(\"enter the floor\"))\n",
    "if floor==0:\n",
    "    print(\"parking area\")\n",
    "elif floor==1:\n",
    "    print(\"furniture era\")\n",
    "elif floor==2:\n",
    "    print(\"electronic era\")\n",
    "elif floor==3:\n",
    "    print(\"dress era\")\n",
    "else:\n",
    "    print(\"thanks for visting\")"
   ]
  },
  {
   "cell_type": "code",
   "execution_count": null,
   "id": "ce80a41a",
   "metadata": {},
   "outputs": [],
   "source": [
    "#identation is important  that makes structure and order of your code\n",
    "person=\"salmankhan\"\n",
    "if person==\"sharukhan\":\n",
    "    print(\"present sir\")\n",
    "else:\n",
    "    print(\"absent sir\")"
   ]
  },
  {
   "cell_type": "code",
   "execution_count": 7,
   "id": "5ac08ebb",
   "metadata": {},
   "outputs": [
    {
     "ename": "NameError",
     "evalue": "name 'dfg' is not defined",
     "output_type": "error",
     "traceback": [
      "\u001b[1;31m---------------------------------------------------------------------------\u001b[0m",
      "\u001b[1;31mNameError\u001b[0m                                 Traceback (most recent call last)",
      "Input \u001b[1;32mIn [7]\u001b[0m, in \u001b[0;36m<cell line: 1>\u001b[1;34m()\u001b[0m\n\u001b[1;32m----> 1\u001b[0m \u001b[43mdfg\u001b[49m\n",
      "\u001b[1;31mNameError\u001b[0m: name 'dfg' is not defined"
     ]
    }
   ],
   "source": [
    "#taxable income assignment"
   ]
  },
  {
   "cell_type": "markdown",
   "id": "4f374a57",
   "metadata": {},
   "source": [
    "## FORLOOP  is control flow statement  that executes code for predefined number of iterations"
   ]
  },
  {
   "cell_type": "code",
   "execution_count": 8,
   "id": "c21d4af3",
   "metadata": {
    "scrolled": true
   },
   "outputs": [
    {
     "name": "stdout",
     "output_type": "stream",
     "text": [
      "1\n",
      "2\n",
      "3\n",
      "4\n",
      "5\n",
      "6\n",
      "7\n",
      "8\n",
      "9\n"
     ]
    }
   ],
   "source": [
    "for i in range(1,10):\n",
    "    print(i)"
   ]
  },
  {
   "cell_type": "code",
   "execution_count": 11,
   "id": "fe544b7f",
   "metadata": {},
   "outputs": [
    {
     "name": "stdout",
     "output_type": "stream",
     "text": [
      "53\n",
      "64\n",
      "23\n",
      "21\n"
     ]
    }
   ],
   "source": [
    "a=[53,64,23,21]\n",
    "for i in a:\n",
    "    print(i)"
   ]
  },
  {
   "cell_type": "code",
   "execution_count": 25,
   "id": "374a6667",
   "metadata": {},
   "outputs": [
    {
     "name": "stdout",
     "output_type": "stream",
     "text": [
      "3\n",
      "kamal its over\n",
      "kamal its over\n",
      "6\n",
      "kamal its over\n",
      "kamal its over\n",
      "9\n"
     ]
    }
   ],
   "source": [
    "for i in range(3,10):\n",
    "    if i%3==0:\n",
    "        print(i)\n",
    "    else:\n",
    "        print(\"error\")"
   ]
  },
  {
   "cell_type": "code",
   "execution_count": 21,
   "id": "e4f7bbb7",
   "metadata": {},
   "outputs": [
    {
     "data": {
      "text/plain": [
       "[0, 2, 4, 6, 8]"
      ]
     },
     "execution_count": 21,
     "metadata": {},
     "output_type": "execute_result"
    }
   ],
   "source": [
    "even=[]\n",
    "odd=[]\n",
    "for i in range(0,10):\n",
    "    if i%2==0:\n",
    "        even.append(i)\n",
    "    else:\n",
    "        odd.append(i)\n",
    "\n",
    "odd     \n",
    "even"
   ]
  },
  {
   "cell_type": "code",
   "execution_count": 23,
   "id": "aef6bd13",
   "metadata": {},
   "outputs": [
    {
     "name": "stdout",
     "output_type": "stream",
     "text": [
      "[0, 2, 4, 6, 8, 10, 12, 14, 16, 18, 20, 22]\n"
     ]
    }
   ],
   "source": [
    "eve=list(range(0,23,2))\n",
    "print(eve)"
   ]
  },
  {
   "cell_type": "code",
   "execution_count": null,
   "id": "dc1834be",
   "metadata": {},
   "outputs": [],
   "source": [
    "name = ['Jeevan','Jagruti','Neha','Chandana']\n",
    "subjects= ['Mysql','Python','Stats']\n",
    "print('Name , Subjects')\n",
    "for i in name:\n",
    "    for j in subjects:\n",
    "        print(i,\"@@@@@@@@@\",j)"
   ]
  },
  {
   "cell_type": "code",
   "execution_count": 36,
   "id": "19db7f6f",
   "metadata": {},
   "outputs": [
    {
     "name": "stdout",
     "output_type": "stream",
     "text": [
      "1\n",
      "22\n",
      "41\n"
     ]
    }
   ],
   "source": [
    "s=[1,22,41,110,67,55]\n",
    "for i in s:\n",
    "    if i>100:\n",
    "        break\n",
    "    print(i)\n",
    "    "
   ]
  },
  {
   "cell_type": "code",
   "execution_count": 41,
   "id": "8ac46c93",
   "metadata": {},
   "outputs": [
    {
     "name": "stdout",
     "output_type": "stream",
     "text": [
      "mulitiplicatio of 1\n",
      "1 2 3 4 5 6 7 8 9 10 \n",
      "mulitiplicatio of 2\n",
      "2 4 6 8 10 12 14 16 18 20 \n",
      "mulitiplicatio of 3\n",
      "3 6 9 12 15 18 21 24 27 30 \n",
      "mulitiplicatio of 4\n",
      "4 8 12 16 20 24 28 32 36 40 \n",
      "mulitiplicatio of 5\n",
      "5 10 15 20 25 30 35 40 45 50 \n",
      "mulitiplicatio of 6\n",
      "6 12 18 24 30 36 42 48 54 60 \n"
     ]
    }
   ],
   "source": [
    "#multiplication table\n",
    "for i in range(1,11):\n",
    "    if i>6:\n",
    "        break\n",
    "    print(\"mulitiplicatio of\",i)\n",
    "    for j in range(1,11):\n",
    "        print(i*j,end=\" \")\n",
    "    print()"
   ]
  },
  {
   "cell_type": "code",
   "execution_count": 43,
   "id": "4ce7572b",
   "metadata": {},
   "outputs": [
    {
     "name": "stdout",
     "output_type": "stream",
     "text": [
      "1\n",
      "2\n",
      "3\n",
      "5\n",
      "6\n",
      "7\n",
      "8\n",
      "9\n"
     ]
    }
   ],
   "source": [
    "#continue statement\n",
    "#range method\n",
    "for i in range(1,10):\n",
    "    if i==4:\n",
    "        continue\n",
    "    else:\n",
    "        print(i)"
   ]
  },
  {
   "cell_type": "code",
   "execution_count": 50,
   "id": "c24a10e7",
   "metadata": {},
   "outputs": [
    {
     "name": "stdout",
     "output_type": "stream",
     "text": [
      "square no 1\n",
      "square no 4\n",
      "square no 16\n",
      "square no 25\n",
      "square no 36\n"
     ]
    }
   ],
   "source": [
    "s=[1,2,23,4,5,6]\n",
    "for i in s:\n",
    "    if i==23:\n",
    "        continue\n",
    "    print(\"square no\",i**2)\n",
    "    "
   ]
  },
  {
   "cell_type": "code",
   "execution_count": 51,
   "id": "7826d39b",
   "metadata": {},
   "outputs": [
    {
     "name": "stdout",
     "output_type": "stream",
     "text": [
      "0\n",
      "1\n",
      "2\n",
      "4\n",
      "5\n",
      "6\n",
      "7\n",
      "8\n",
      "9\n"
     ]
    }
   ],
   "source": [
    "for i in range(10):\n",
    "    if i==3:\n",
    "        pass\n",
    "    else:\n",
    "        print(i)"
   ]
  },
  {
   "cell_type": "markdown",
   "id": "bdb9dd78",
   "metadata": {},
   "source": [
    "## WHILE aloop that returns a single statement or a set of statement for given condition is true"
   ]
  },
  {
   "cell_type": "code",
   "execution_count": null,
   "id": "029eda99",
   "metadata": {},
   "outputs": [],
   "source": [
    "i=1\n",
    "while i<6:\n",
    "    print(i)\n",
    "    i+=1"
   ]
  },
  {
   "cell_type": "code",
   "execution_count": null,
   "id": "b29b16f7",
   "metadata": {},
   "outputs": [],
   "source": [
    "i=1\n",
    "while i<6:\n",
    "    print(i)\n",
    "    i+=1"
   ]
  },
  {
   "cell_type": "code",
   "execution_count": null,
   "id": "00d4a109",
   "metadata": {},
   "outputs": [],
   "source": [
    "i=0\n",
    "while i<6:\n",
    "    i+=1\n",
    "    if i==3:\n",
    "        continue\n",
    "    print(i)"
   ]
  },
  {
   "cell_type": "code",
   "execution_count": null,
   "id": "2b01ad6a",
   "metadata": {},
   "outputs": [],
   "source": [
    "name=\"kamala kannan\"\n",
    "i=0\n",
    "while i<len(name):\n",
    "    if name[i].isspace():\n",
    "        break\n",
    "    print(name[i],end=\" \")\n",
    "    i+=1"
   ]
  },
  {
   "cell_type": "code",
   "execution_count": 3,
   "id": "f69aa5eb",
   "metadata": {},
   "outputs": [
    {
     "name": "stdout",
     "output_type": "stream",
     "text": [
      "enter number10\n",
      "enter number10\n"
     ]
    },
    {
     "data": {
      "text/plain": [
       "20"
      ]
     },
     "execution_count": 3,
     "metadata": {},
     "output_type": "execute_result"
    }
   ],
   "source": [
    "a=int(input(\"enter number\"))\n",
    "c=int(input(\"enter number\"))\n",
    "d=a+c\n",
    "d\n"
   ]
  },
  {
   "cell_type": "code",
   "execution_count": 6,
   "id": "677c8221",
   "metadata": {},
   "outputs": [
    {
     "data": {
      "text/plain": [
       "False"
      ]
     },
     "execution_count": 6,
     "metadata": {},
     "output_type": "execute_result"
    }
   ],
   "source": [
    "1>5"
   ]
  },
  {
   "cell_type": "code",
   "execution_count": 7,
   "id": "78996f91",
   "metadata": {},
   "outputs": [
    {
     "data": {
      "text/plain": [
       "True"
      ]
     },
     "execution_count": 7,
     "metadata": {},
     "output_type": "execute_result"
    }
   ],
   "source": [
    "5==5"
   ]
  },
  {
   "cell_type": "code",
   "execution_count": null,
   "id": "fe8507e6",
   "metadata": {},
   "outputs": [],
   "source": [
    "a=int(input(\"enter njmber\"))\n",
    "b=int(input(\"enter number\"))\n",
    "try:\n",
    "    if a==5:\n",
    "        raise Exception\n",
    "    c=a+b\n",
    "    print(c)\n",
    "except:\n",
    "    print(\"Execption raised\")"
   ]
  },
  {
   "cell_type": "code",
   "execution_count": null,
   "id": "578abecd",
   "metadata": {},
   "outputs": [],
   "source": []
  },
  {
   "cell_type": "code",
   "execution_count": null,
   "id": "a2afac2f",
   "metadata": {},
   "outputs": [],
   "source": []
  }
 ],
 "metadata": {
  "kernelspec": {
   "display_name": "Python 3 (ipykernel)",
   "language": "python",
   "name": "python3"
  },
  "language_info": {
   "codemirror_mode": {
    "name": "ipython",
    "version": 3
   },
   "file_extension": ".py",
   "mimetype": "text/x-python",
   "name": "python",
   "nbconvert_exporter": "python",
   "pygments_lexer": "ipython3",
   "version": "3.9.12"
  }
 },
 "nbformat": 4,
 "nbformat_minor": 5
}
